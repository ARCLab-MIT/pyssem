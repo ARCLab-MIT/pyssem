{
 "cells": [
  {
   "cell_type": "code",
   "execution_count": 1,
   "metadata": {},
   "outputs": [],
   "source": [
    "import os\n",
    "import pickle\n",
    "\n",
    "# # import pickle file \n",
    "with open('scenario-properties-baseline.pkl', 'rb') as f:\n",
    "    baseline = pickle.load(f)\n",
    "\n",
    "# with open('scenario-properties-dv.pkl', 'rb') as f:\n",
    "#     dv = pickle.load(f)"
   ]
  },
  {
   "cell_type": "code",
   "execution_count": 9,
   "metadata": {},
   "outputs": [],
   "source": [
    "import sympy as sp\n",
    "\n",
    "# Equations\n",
    "baseline.equations\n",
    "\n",
    "# x0 initial population\n",
    "baseline.x0\n",
    "\n",
    "# baseline.\n",
    "baseline.all_symbolic_vars\n",
    "\n",
    "# solver\n",
    "equations_flattened = [baseline.equations[i, j] for j in range(baseline.equations.cols) for i in range(baseline.equations.rows)]\n",
    "\n",
    "equations = [sp.lambdify(baseline.all_symbolic_vars, eq, 'numpy') for eq in equations_flattened]"
   ]
  }
 ],
 "metadata": {
  "kernelspec": {
   "display_name": "fspsim",
   "language": "python",
   "name": "python3"
  },
  "language_info": {
   "codemirror_mode": {
    "name": "ipython",
    "version": 3
   },
   "file_extension": ".py",
   "mimetype": "text/x-python",
   "name": "python",
   "nbconvert_exporter": "python",
   "pygments_lexer": "ipython3",
   "version": "3.9.18"
  }
 },
 "nbformat": 4,
 "nbformat_minor": 2
}
