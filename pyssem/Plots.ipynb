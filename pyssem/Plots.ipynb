{
 "cells": [
  {
   "cell_type": "code",
   "execution_count": 74,
   "metadata": {},
   "outputs": [],
   "source": [
    "import os\n",
    "import pickle\n",
    "import numpy as np\n",
    "\n",
    "# # import pickle file \n",
    "with open('../scenario-properties-controller.pkl', 'rb') as f:\n",
    "    baseline = pickle.load(f)\n",
    "\n",
    "# with open('../scenario-properties-controller_orig.pkl', 'rb') as f:\n",
    "#     baseline = pickle.load(f)"
   ]
  },
  {
   "cell_type": "code",
   "execution_count": 75,
   "metadata": {},
   "outputs": [],
   "source": [
    "import sympy as sp\n",
    "\n",
    "# Equations\n",
    "baseline.equations\n",
    "\n",
    "# x0 initial population\n",
    "baseline.x0\n",
    "\n",
    "# baseline.\n",
    "baseline.all_symbolic_vars\n",
    "\n",
    "# solver\n",
    "equations_flattened = [baseline.equations[i, j] for j in range(baseline.equations.cols) for i in range(baseline.equations.rows)]\n",
    "\n",
    "full_lambda = sp.Matrix(sp.symbols([f'lambda_{i+1}' for i in range(baseline.n_shells)]))\n",
    "full_lambda_flattened = [full_lambda[i, j] for j in range(full_lambda.cols) for i in range(full_lambda.rows)]\n",
    "\n",
    "for i1 in range(baseline.n_shells):\n",
    "    equations_flattened[i1] = equations_flattened[i1]+full_lambda_flattened[i1]\n",
    "\n",
    "baseline.all_symbolic_vars = baseline.all_symbolic_vars + full_lambda_flattened\n",
    "\n",
    "equations = [sp.lambdify(baseline.all_symbolic_vars, eq, 'numpy') for eq in equations_flattened]"
   ]
  },
  {
   "cell_type": "code",
   "execution_count": 119,
   "metadata": {},
   "outputs": [
    {
     "data": {
      "text/plain": [
       "array([ 1.74999988e+00,  1.74999988e+00,  1.74999989e+00,  1.74999989e+00,\n",
       "        1.74999989e+00,  1.74999989e+00,  1.74999989e+00,  1.74999989e+00,\n",
       "        1.74999990e+00,  1.74999990e+00,  1.74999990e+00,  1.74999990e+00,\n",
       "        1.74999990e+00,  1.74999990e+00, -2.87792668e+03, -6.75582916e+02,\n",
       "       -2.05740828e+02, -8.15955923e+01, -3.02434543e+01, -1.25980309e+01,\n",
       "       -5.38518636e+00, -2.46889540e+00, -1.04416779e+00, -5.22228315e-01,\n",
       "       -2.24074147e-01, -1.27757952e-01, -5.55442465e-02, -1.14202611e-01,\n",
       "       -7.32832620e+02, -1.72010391e+02, -5.23660924e+01, -2.07527732e+01,\n",
       "       -7.67606418e+00, -3.18269897e+00, -1.34596859e+00, -6.03346361e-01,\n",
       "       -2.40547550e-01, -1.07641686e-01, -3.17223561e-02, -7.20020925e-03,\n",
       "        1.11842919e-02, -3.75723300e-03])"
      ]
     },
     "execution_count": 119,
     "metadata": {},
     "output_type": "execute_result"
    }
   ],
   "source": [
    "# equations_flattened\n",
    "# baseline.all_symbolic_vars\n",
    "\n",
    "# x0 = np.ones(len(baseline.all_symbolic_vars)) * 2\n",
    "# N_shell = baseline.n_shells\n",
    "# S_all = x0[:N_shell]\n",
    "# -np.sum(np.log(S_all)**2) \n",
    "\n",
    "# c_eq = np.array([sp.lambdify(baseline.all_symbolic_vars, eq, 'numpy')(*x0) for eq in equations_flattened])\n",
    "# c_eq"
   ]
  },
  {
   "cell_type": "code",
   "execution_count": 142,
   "metadata": {},
   "outputs": [
    {
     "name": "stdout",
     "output_type": "stream",
     "text": [
      "Optimal found at: [3.02550363e+00 2.96194522e+00 2.94682393e+00 2.94892554e+00\n",
      " 2.95319216e+00 2.96544162e+00 2.99003989e+00 3.04080579e+00\n",
      " 3.13188717e+00 3.25814157e+00 3.34526650e+00 3.27351903e+00\n",
      " 2.91759717e+00 3.07010333e+00 0.00000000e+00 1.16087397e-06\n",
      " 6.15408600e-06 2.21504242e-05 7.24879700e-05 2.05610011e-04\n",
      " 5.40733437e-04 1.31595408e-03 3.07113618e-03 6.19762937e-03\n",
      " 1.15551982e-02 1.64089634e-02 1.89709225e-02 1.13548886e-02\n",
      " 1.07819292e-03 3.84422638e-03 1.06351745e-02 2.47901908e-02\n",
      " 5.76876060e-02 1.22357566e-01 2.48371109e-01 4.77871410e-01\n",
      " 9.00294211e-01 1.50566636e+00 2.39496692e+00 3.08044950e+00\n",
      " 3.47335270e+00 2.67357477e+00 3.79188012e-01 3.71243266e-01\n",
      " 3.69353042e-01 3.69615788e-01 3.70149070e-01 3.71680298e-01\n",
      " 3.74755043e-01 3.81100830e-01 3.92485988e-01 4.08267810e-01\n",
      " 4.19158455e-01 4.10190067e-01 3.65699829e-01 3.84763051e-01]\n",
      "Function value at optimal: 17.50058179116801\n"
     ]
    },
    {
     "data": {
      "text/plain": [
       " message: Optimization terminated successfully\n",
       " success: True\n",
       "  status: 0\n",
       "     fun: -17.50058179116801\n",
       "       x: [ 3.026e+00  2.962e+00 ...  3.657e-01  3.848e-01]\n",
       "     nit: 2\n",
       "     jac: [-7.318e-01 -7.332e-01 ...  0.000e+00  0.000e+00]\n",
       "    nfev: 114\n",
       "    njev: 2"
      ]
     },
     "execution_count": 142,
     "metadata": {},
     "output_type": "execute_result"
    }
   ],
   "source": [
    "from scipy.optimize import minimize\n",
    "from scipy.optimize import Bounds\n",
    "from scipy.optimize import NonlinearConstraint\n",
    "from scipy.integrate import solve_ivp\n",
    "\n",
    "def PrfAll(x, baseline):\n",
    "  \"\"\"\n",
    "  Python version of the PrfAll function.\n",
    "\n",
    "  Args:\n",
    "    x: Input array, where the first N_shell elements represent S_all.\n",
    "    baseline: Dictionary containing data, including 'N_shell'.\n",
    "\n",
    "  Returns:\n",
    "    f: Objective function.\n",
    "  \"\"\"\n",
    "\n",
    "  N_shell = baseline.n_shells\n",
    "  S_all = x[:N_shell]  # Extract S_all from x\n",
    "\n",
    "  # HIGH CAPACITY\n",
    "  f = -np.sum(np.log(S_all)**2) \n",
    "  # f = -np.sum((S_all)) \n",
    "\n",
    "  # Uncomment for NOT HIGH CAPACITY scenarios (as needed)\n",
    "  # f = - np.sum(np.log(S_all[5:8])) # shells at 500-600 km (Python index starts at 0)\n",
    "  # f = - np.sum(S_all[6]) # shell at 550 km (Python index starts at 0)\n",
    "\n",
    "  return f\n",
    "\n",
    "def PrcAll(x, baseline):\n",
    "    \"\"\"\n",
    "    Evaluates all constraints at once.\n",
    "\n",
    "    Args:\n",
    "      x: The optimization variables.\n",
    "      baseline: Your baseline object containing symbolic variables.\n",
    "\n",
    "    Returns:\n",
    "      An array containing the results of all constraint function evaluations.\n",
    "    \"\"\"\n",
    "\n",
    "    c_eq = np.array([sp.lambdify(baseline.all_symbolic_vars, eq, 'numpy')(*x) for eq in equations_flattened])\n",
    "    \n",
    "    # c_ineq \n",
    "    # y_fail_l(k) = -(lambda * Dt * (1 - failure_rate_L) - S);\n",
    "    # y_fail_u(k) = lambda * Dt * (1 - failure_rate_U) - S; \n",
    "\n",
    "    return c_eq\n",
    "\n",
    "## Initial guess\n",
    "x0 = np.ones(len(baseline.all_symbolic_vars)) * 2\n",
    "\n",
    "## Bounds\n",
    "lb = np.ones(len(baseline.all_symbolic_vars)) * 0\n",
    "# lb = -np.inf\n",
    "ub = np.inf\n",
    "\n",
    "## Objective function\n",
    "objective = PrfAll\n",
    "\n",
    "## Constraints for SLSQP\n",
    "# con1 = {'type': 'eq', 'fun': lambda x: PrcAll(x, baseline)}\n",
    "# # con2 = {'type': 'ineq', 'fun': constraint2}\n",
    "# nonlcon = con1\n",
    "# opt = {'ftol': 1e-12, 'eps': 1e-18, 'disp': True, 'maxiter': 5e5} \n",
    "\n",
    "## Constraints for trust-constr: lb <= fun(x) <= ub\n",
    "# nonlcon = NonlinearConstraint(lambda x: PrcAll(x, baseline), 0, 0)\n",
    "nonlcon = NonlinearConstraint(lambda x: PrcAll(x, baseline), 0, 1e-3)\n",
    "\n",
    "## Perform the optimization\n",
    "result = minimize(objective, x0, args=(baseline), method='SLSQP', # SLSQP, trust-constr, \n",
    "                  jac=None, hess=None, hessp=None, \n",
    "                  bounds=Bounds(lb=lb, ub=ub, keep_feasible=False), \n",
    "                  constraints=nonlcon, \n",
    "                  tol=1e1,\n",
    "                  options=None)\n",
    "\n",
    "## Print the results\n",
    "print(\"Optimal found at:\", result.x)\n",
    "print(\"Function value at optimal:\", -result.fun)\n",
    "print(\"Equality constraints:\", np.array([sp.lambdify(baseline.all_symbolic_vars, eq, 'numpy')(*result.x) for eq in equations_flattened]))\n",
    "result"
   ]
  },
  {
   "cell_type": "code",
   "execution_count": 181,
   "metadata": {},
   "outputs": [
    {
     "data": {
      "text/plain": [
       "56"
      ]
     },
     "execution_count": 181,
     "metadata": {},
     "output_type": "execute_result"
    }
   ],
   "source": [
    "# equations_flattened\n",
    "# baseline.population_shell\n",
    "# equations\n",
    "# ff = np.array([sp.lambdify(baseline.all_symbolic_vars, eq, 'numpy')(*xopt) for eq in equations_flattened])\n",
    "# len(baseline.all_symbolic_vars)"
   ]
  },
  {
   "cell_type": "code",
   "execution_count": 174,
   "metadata": {},
   "outputs": [
    {
     "ename": "ValueError",
     "evalue": "operands could not be broadcast together with shapes (42,) (56,) ",
     "output_type": "error",
     "traceback": [
      "\u001b[0;31m---------------------------------------------------------------------------\u001b[0m",
      "\u001b[0;31mValueError\u001b[0m                                Traceback (most recent call last)",
      "Cell \u001b[0;32mIn[174], line 19\u001b[0m\n\u001b[1;32m     16\u001b[0m N_opt \u001b[38;5;241m=\u001b[39m c_eq[N_shell\u001b[38;5;241m+\u001b[39m\u001b[38;5;241m1\u001b[39m:\u001b[38;5;241m2\u001b[39m\u001b[38;5;241m*\u001b[39mN_shell]\n\u001b[1;32m     17\u001b[0m D_opt \u001b[38;5;241m=\u001b[39m c_eq[\u001b[38;5;241m2\u001b[39m\u001b[38;5;241m*\u001b[39mN_shell\u001b[38;5;241m+\u001b[39m\u001b[38;5;241m1\u001b[39m:\u001b[38;5;241m3\u001b[39m\u001b[38;5;241m*\u001b[39mN_shell]\n\u001b[0;32m---> 19\u001b[0m x_prop \u001b[38;5;241m=\u001b[39m \u001b[43msolve_ivp\u001b[49m\u001b[43m(\u001b[49m\u001b[43mode_system\u001b[49m\u001b[43m,\u001b[49m\u001b[43m \u001b[49m\u001b[43m(\u001b[49m\u001b[38;5;241;43m0\u001b[39;49m\u001b[43m,\u001b[49m\u001b[43m \u001b[49m\u001b[38;5;241;43m100\u001b[39;49m\u001b[43m)\u001b[49m\u001b[43m,\u001b[49m\u001b[43m \u001b[49m\u001b[43mxopt\u001b[49m\u001b[43m,\u001b[49m\u001b[43m \u001b[49m\u001b[43mmethod\u001b[49m\u001b[38;5;241;43m=\u001b[39;49m\u001b[43mbaseline\u001b[49m\u001b[38;5;241;43m.\u001b[39;49m\u001b[43mintegrator\u001b[49m\u001b[43m)\u001b[49m\n\u001b[1;32m     21\u001b[0m S_prop \u001b[38;5;241m=\u001b[39m x_prop[\u001b[38;5;241m1\u001b[39m:N_shell]\n\u001b[1;32m     22\u001b[0m N_prop \u001b[38;5;241m=\u001b[39m x_prop[N_shell\u001b[38;5;241m+\u001b[39m\u001b[38;5;241m1\u001b[39m:\u001b[38;5;241m2\u001b[39m\u001b[38;5;241m*\u001b[39mN_shell]\n",
      "File \u001b[0;32m~/Desktop/pyssem/.venv/lib/python3.9/site-packages/scipy/integrate/_ivp/ivp.py:621\u001b[0m, in \u001b[0;36msolve_ivp\u001b[0;34m(fun, t_span, y0, method, t_eval, dense_output, events, vectorized, args, **options)\u001b[0m\n\u001b[1;32m    618\u001b[0m \u001b[38;5;28;01mif\u001b[39;00m method \u001b[38;5;129;01min\u001b[39;00m METHODS:\n\u001b[1;32m    619\u001b[0m     method \u001b[38;5;241m=\u001b[39m METHODS[method]\n\u001b[0;32m--> 621\u001b[0m solver \u001b[38;5;241m=\u001b[39m \u001b[43mmethod\u001b[49m\u001b[43m(\u001b[49m\u001b[43mfun\u001b[49m\u001b[43m,\u001b[49m\u001b[43m \u001b[49m\u001b[43mt0\u001b[49m\u001b[43m,\u001b[49m\u001b[43m \u001b[49m\u001b[43my0\u001b[49m\u001b[43m,\u001b[49m\u001b[43m \u001b[49m\u001b[43mtf\u001b[49m\u001b[43m,\u001b[49m\u001b[43m \u001b[49m\u001b[43mvectorized\u001b[49m\u001b[38;5;241;43m=\u001b[39;49m\u001b[43mvectorized\u001b[49m\u001b[43m,\u001b[49m\u001b[43m \u001b[49m\u001b[38;5;241;43m*\u001b[39;49m\u001b[38;5;241;43m*\u001b[39;49m\u001b[43moptions\u001b[49m\u001b[43m)\u001b[49m\n\u001b[1;32m    623\u001b[0m \u001b[38;5;28;01mif\u001b[39;00m t_eval \u001b[38;5;129;01mis\u001b[39;00m \u001b[38;5;28;01mNone\u001b[39;00m:\n\u001b[1;32m    624\u001b[0m     ts \u001b[38;5;241m=\u001b[39m [t0]\n",
      "File \u001b[0;32m~/Desktop/pyssem/.venv/lib/python3.9/site-packages/scipy/integrate/_ivp/rk.py:96\u001b[0m, in \u001b[0;36mRungeKutta.__init__\u001b[0;34m(self, fun, t0, y0, t_bound, max_step, rtol, atol, vectorized, first_step, **extraneous)\u001b[0m\n\u001b[1;32m     94\u001b[0m \u001b[38;5;28mself\u001b[39m\u001b[38;5;241m.\u001b[39mf \u001b[38;5;241m=\u001b[39m \u001b[38;5;28mself\u001b[39m\u001b[38;5;241m.\u001b[39mfun(\u001b[38;5;28mself\u001b[39m\u001b[38;5;241m.\u001b[39mt, \u001b[38;5;28mself\u001b[39m\u001b[38;5;241m.\u001b[39my)\n\u001b[1;32m     95\u001b[0m \u001b[38;5;28;01mif\u001b[39;00m first_step \u001b[38;5;129;01mis\u001b[39;00m \u001b[38;5;28;01mNone\u001b[39;00m:\n\u001b[0;32m---> 96\u001b[0m     \u001b[38;5;28mself\u001b[39m\u001b[38;5;241m.\u001b[39mh_abs \u001b[38;5;241m=\u001b[39m \u001b[43mselect_initial_step\u001b[49m\u001b[43m(\u001b[49m\n\u001b[1;32m     97\u001b[0m \u001b[43m        \u001b[49m\u001b[38;5;28;43mself\u001b[39;49m\u001b[38;5;241;43m.\u001b[39;49m\u001b[43mfun\u001b[49m\u001b[43m,\u001b[49m\u001b[43m \u001b[49m\u001b[38;5;28;43mself\u001b[39;49m\u001b[38;5;241;43m.\u001b[39;49m\u001b[43mt\u001b[49m\u001b[43m,\u001b[49m\u001b[43m \u001b[49m\u001b[38;5;28;43mself\u001b[39;49m\u001b[38;5;241;43m.\u001b[39;49m\u001b[43my\u001b[49m\u001b[43m,\u001b[49m\u001b[43m \u001b[49m\u001b[38;5;28;43mself\u001b[39;49m\u001b[38;5;241;43m.\u001b[39;49m\u001b[43mf\u001b[49m\u001b[43m,\u001b[49m\u001b[43m \u001b[49m\u001b[38;5;28;43mself\u001b[39;49m\u001b[38;5;241;43m.\u001b[39;49m\u001b[43mdirection\u001b[49m\u001b[43m,\u001b[49m\n\u001b[1;32m     98\u001b[0m \u001b[43m        \u001b[49m\u001b[38;5;28;43mself\u001b[39;49m\u001b[38;5;241;43m.\u001b[39;49m\u001b[43merror_estimator_order\u001b[49m\u001b[43m,\u001b[49m\u001b[43m \u001b[49m\u001b[38;5;28;43mself\u001b[39;49m\u001b[38;5;241;43m.\u001b[39;49m\u001b[43mrtol\u001b[49m\u001b[43m,\u001b[49m\u001b[43m \u001b[49m\u001b[38;5;28;43mself\u001b[39;49m\u001b[38;5;241;43m.\u001b[39;49m\u001b[43matol\u001b[49m\u001b[43m)\u001b[49m\n\u001b[1;32m     99\u001b[0m \u001b[38;5;28;01melse\u001b[39;00m:\n\u001b[1;32m    100\u001b[0m     \u001b[38;5;28mself\u001b[39m\u001b[38;5;241m.\u001b[39mh_abs \u001b[38;5;241m=\u001b[39m validate_first_step(first_step, t0, t_bound)\n",
      "File \u001b[0;32m~/Desktop/pyssem/.venv/lib/python3.9/site-packages/scipy/integrate/_ivp/common.py:108\u001b[0m, in \u001b[0;36mselect_initial_step\u001b[0;34m(fun, t0, y0, f0, direction, order, rtol, atol)\u001b[0m\n\u001b[1;32m    106\u001b[0m scale \u001b[38;5;241m=\u001b[39m atol \u001b[38;5;241m+\u001b[39m np\u001b[38;5;241m.\u001b[39mabs(y0) \u001b[38;5;241m*\u001b[39m rtol\n\u001b[1;32m    107\u001b[0m d0 \u001b[38;5;241m=\u001b[39m norm(y0 \u001b[38;5;241m/\u001b[39m scale)\n\u001b[0;32m--> 108\u001b[0m d1 \u001b[38;5;241m=\u001b[39m norm(\u001b[43mf0\u001b[49m\u001b[43m \u001b[49m\u001b[38;5;241;43m/\u001b[39;49m\u001b[43m \u001b[49m\u001b[43mscale\u001b[49m)\n\u001b[1;32m    109\u001b[0m \u001b[38;5;28;01mif\u001b[39;00m d0 \u001b[38;5;241m<\u001b[39m \u001b[38;5;241m1e-5\u001b[39m \u001b[38;5;129;01mor\u001b[39;00m d1 \u001b[38;5;241m<\u001b[39m \u001b[38;5;241m1e-5\u001b[39m:\n\u001b[1;32m    110\u001b[0m     h0 \u001b[38;5;241m=\u001b[39m \u001b[38;5;241m1e-6\u001b[39m\n",
      "\u001b[0;31mValueError\u001b[0m: operands could not be broadcast together with shapes (42,) (56,) "
     ]
    }
   ],
   "source": [
    "def ode_system(t, x):\n",
    "    ff = np.array([sp.lambdify(baseline.all_symbolic_vars, eq, 'numpy')(*x) for eq in equations_flattened])\n",
    "    return ff\n",
    "\n",
    "N_shell = baseline.n_shells\n",
    "R0_km = baseline.R0_km\n",
    "xopt = result.x\n",
    "\n",
    "S_opt = xopt[1:N_shell]\n",
    "N_opt = xopt[N_shell+1:2*N_shell]\n",
    "D_opt = xopt[2*N_shell+1:3*N_shell]\n",
    "lam_opt = xopt[3*N_shell+1:4*N_shell]\n",
    "\n",
    "c_eq = np.array([sp.lambdify(baseline.all_symbolic_vars, eq, 'numpy')(*xopt) for eq in equations_flattened])\n",
    "S_opt = c_eq[1:N_shell]\n",
    "N_opt = c_eq[N_shell+1:2*N_shell]\n",
    "D_opt = c_eq[2*N_shell+1:3*N_shell]\n",
    "\n",
    "x_prop = solve_ivp(ode_system, (0, 100), xopt, method=baseline.integrator)\n",
    "\n",
    "S_prop = x_prop[1:N_shell]\n",
    "N_prop = x_prop[N_shell+1:2*N_shell]\n",
    "D_prop = x_prop[2*N_shell+1:3*N_shell]\n",
    "N_tot = S_prop + D_prop + N_prop\n",
    "N_tot_sum = sum(N_tot,2)\n",
    "S_sum = sum(S_prop,2)\n",
    "D_sum = sum(D_prop,2)\n",
    "N_sum = sum(N_prop,2)\n",
    "\n",
    "R0_km[2:]-25"
   ]
  },
  {
   "cell_type": "code",
   "execution_count": 6,
   "metadata": {},
   "outputs": [],
   "source": [
    "# from scipy.optimize import show_options\n",
    "# show_options('minimize', method='SLSQP')\n",
    "# show_options('minimize', method='trust-constr')"
   ]
  }
 ],
 "metadata": {
  "kernelspec": {
   "display_name": "fspsim",
   "language": "python",
   "name": "python3"
  },
  "language_info": {
   "codemirror_mode": {
    "name": "ipython",
    "version": 3
   },
   "file_extension": ".py",
   "mimetype": "text/x-python",
   "name": "python",
   "nbconvert_exporter": "python",
   "pygments_lexer": "ipython3",
   "version": "3.9.6"
  }
 },
 "nbformat": 4,
 "nbformat_minor": 2
}
