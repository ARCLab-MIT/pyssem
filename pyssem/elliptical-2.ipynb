{
 "cells": [
  {
   "cell_type": "code",
   "execution_count": 1,
   "metadata": {},
   "outputs": [],
   "source": [
    "import numpy as np\n",
    "from scipy.optimize import root_scalar\n",
    "import matplotlib.pyplot as plt\n",
    "\n",
    "mu = 398600.4418  # km^3/s^2\n",
    "\n",
    "##########################\n",
    "# Mark's Equations\n",
    "##########################\n",
    "\n",
    "def solve_E_for_r(r, a, e):\n",
    "    def f(E): return a * (1 - e * np.cos(E)) - r\n",
    "    try:\n",
    "        sol = root_scalar(f, bracket=[0, np.pi], method='brentq')\n",
    "        return sol.root if sol.converged else None\n",
    "    except ValueError:\n",
    "        return None\n",
    "\n",
    "def compute_time_fractions_for_orbit(a, e, shell_edges):\n",
    "    n = np.sqrt(mu / a**3) # mean motion, rad/s, EQUATION 3\n",
    "    P = 2 * np.pi / n\n",
    "    times = []\n",
    "\n",
    "    # EQUATION 1 - r_low and r_high (apogee and perigee)\n",
    "    r_min = a * (1 - e)\n",
    "    r_max = a * (1 + e)\n",
    "\n",
    "    for i in range(len(shell_edges) - 1):\n",
    "        r_low = shell_edges[i]\n",
    "        r_high = shell_edges[i + 1]\n",
    "\n",
    "        # Check if shell overlaps orbit path\n",
    "        # if the shell is outside the orbit path, skip it\n",
    "        if r_high < r_min or r_low > r_max:\n",
    "            times.append(0.0)\n",
    "            continue\n",
    "\n",
    "        # Clamp bounds to be inside orbit range\n",
    "        r1 = max(r_low, r_min)\n",
    "        r2 = min(r_high, r_max)\n",
    "\n",
    "        # Solve for eccentric anomaly E1 and E2\n",
    "        # corresponding to the radii r1 and r2\n",
    "        E1 = solve_E_for_r(r1, a, e)\n",
    "        E2 = solve_E_for_r(r2, a, e)\n",
    "\n",
    "        if E1 is None or E2 is None:\n",
    "            times.append(0.0)\n",
    "            continue\n",
    "        \n",
    "        # EQUATION 2\n",
    "        # Convert to mean anomaly\n",
    "        M1 = E1 - e * np.sin(E1)\n",
    "        M2 = E2 - e * np.sin(E2)\n",
    "\n",
    "        # Finally, compute the time spent in the shell\n",
    "        dt = 2 * (M2 - M1) / n # EQUATON 4\n",
    "        times.append(dt)\n",
    "\n",
    "    # Convert time list to array and divide by orbital period\n",
    "    times = np.array(times)\n",
    "    times /= P  # <-- now fractions are normalised w.r.t full orbital period, EQUATION 5\n",
    "    return times\n"
   ]
  },
  {
   "cell_type": "code",
   "execution_count": 9,
   "metadata": {},
   "outputs": [
    {
     "name": "stdout",
     "output_type": "stream",
     "text": [
      "Total time spent in all shells: 1.00\n"
     ]
    },
    {
     "data": {
      "image/png": "[encoded data removed]",
      "text/plain": [
       "<Figure size 1000x600 with 1 Axes>"
      ]
     },
     "metadata": {},
     "output_type": "display_data"
    }
   ],
   "source": [
    "############################\n",
    "# Test with a simple case\n",
    "############################\n",
    "\n",
    "# Test parameters\n",
    "a_test = 1000 + 6371  # semi-major axis in km\n",
    "e_test = 0.0001   # eccentricity\n",
    "\n",
    "\n",
    "altitude_shells = np.array([\n",
    "    400., 450., 500., 550., 600., 650., 700., 750., 800.,\n",
    "    850., 900., 950., 1000., 1050., 1100., 1150., 1200.,\n",
    "    1250., 1300., 1350., 1400., 1450., 1500., 1550., 1600.,\n",
    "    1650., 1700., 1750., 1800., 1850., 1900., 1950., 2000.\n",
    "])\n",
    "shell_edges = altitude_shells + 6371 # Convert to sma\n",
    "\n",
    "\n",
    "# Compute time fractions for test orbit\n",
    "time_fractions = compute_time_fractions_for_orbit(a_test, e_test, shell_edges)\n",
    "\n",
    "# sum time_fractions\n",
    "total_time = np.sum(time_fractions)\n",
    "print(f\"Total time spent in all shells: {total_time:.2f}\")\n",
    "\n",
    "# Compute bin centers for plotting\n",
    "altitude_bin_centers = (altitude_shells[:-1] + altitude_shells[1:]) / 2\n",
    "\n",
    "# Plot the results\n",
    "plt.figure(figsize=(10, 6))\n",
    "plt.bar(altitude_bin_centers, time_fractions, width=50, align='center', edgecolor='black')\n",
    "plt.xlabel('Altitude Shell Center (km)')\n",
    "plt.ylabel('Fraction of Time Spent')\n",
    "plt.title(f'Time in Altitude Shells for a={a_test} km, e={e_test}')\n",
    "plt.grid(True)\n",
    "plt.tight_layout()\n",
    "plt.show()"
   ]
  },
  {
   "cell_type": "code",
   "execution_count": null,
   "metadata": {},
   "outputs": [],
   "source": []
  },
  {
   "cell_type": "code",
   "execution_count": null,
   "metadata": {},
   "outputs": [],
   "source": []
  },
  {
   "cell_type": "code",
   "execution_count": null,
   "metadata": {},
   "outputs": [],
   "source": []
  },
  {
   "cell_type": "code",
   "execution_count": null,
   "metadata": {},
   "outputs": [],
   "source": []
  },
  {
   "cell_type": "code",
   "execution_count": null,
   "metadata": {},
   "outputs": [],
   "source": []
  },
  {
   "cell_type": "code",
   "execution_count": null,
   "metadata": {},
   "outputs": [],
   "source": []
  }
 ],
 "metadata": {
  "kernelspec": {
   "display_name": "pyssem-env",
   "language": "python",
   "name": "python3"
  },
  "language_info": {
   "codemirror_mode": {
    "name": "ipython",
    "version": 3
   },
   "file_extension": ".py",
   "mimetype": "text/x-python",
   "name": "python",
   "nbconvert_exporter": "python",
   "pygments_lexer": "ipython3",
   "version": "3.13.2"
  }
 },
 "nbformat": 4,
 "nbformat_minor": 2
}
