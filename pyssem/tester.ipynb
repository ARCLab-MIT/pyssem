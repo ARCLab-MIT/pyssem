{
 "cells": [
  {
   "cell_type": "code",
   "execution_count": 5,
   "metadata": {},
   "outputs": [
    {
     "name": "stdout",
     "output_type": "stream",
     "text": [
      "Splitting species N into 2 species with masses [0.00141372, 0.567].\n",
      "Added 1 active species, 3 debris species, and 1 rocket body species to the simulation.\n",
      "Pairing the following active species to debris classes for PMD modeling...\n",
      "['S']\n",
      "Matched species S to debris species N_500kg.\n",
      "    Name: N_0.00141372kg\n",
      "    pmd_linked_species: []\n",
      "    Name: N_0.567kg\n",
      "    pmd_linked_species: []\n",
      "    Name: N_500kg\n",
      "    pmd_linked_species: ['S']\n",
      "As no file is provided. Downloading a launch file...:\n",
      "Initial URL Response Status Code: 200\n",
      "Download URL Response Status Code: 200\n",
      "Content-Length: 324434411\n"
     ]
    },
    {
     "ename": "KeyboardInterrupt",
     "evalue": "",
     "output_type": "error",
     "traceback": [
      "\u001b[1;31m---------------------------------------------------------------------------\u001b[0m",
      "\u001b[1;31mKeyboardInterrupt\u001b[0m                         Traceback (most recent call last)",
      "Cell \u001b[1;32mIn[5], line 32\u001b[0m\n\u001b[0;32m     28\u001b[0m species \u001b[38;5;241m=\u001b[39m simulation_data[\u001b[38;5;124m\"\u001b[39m\u001b[38;5;124mspecies\u001b[39m\u001b[38;5;124m\"\u001b[39m]\n\u001b[0;32m     30\u001b[0m species_list \u001b[38;5;241m=\u001b[39m model\u001b[38;5;241m.\u001b[39mconfigure_species(species)\n\u001b[1;32m---> 32\u001b[0m \u001b[43mmodel\u001b[49m\u001b[38;5;241;43m.\u001b[39;49m\u001b[43minitial_population\u001b[49m\u001b[43m(\u001b[49m\u001b[43m)\u001b[49m\n\u001b[0;32m     33\u001b[0m model\u001b[38;5;241m.\u001b[39mbuild_model()\n\u001b[0;32m     35\u001b[0m times \u001b[38;5;241m=\u001b[39m [\u001b[38;5;241m0\u001b[39m, \u001b[38;5;241m1\u001b[39m, \u001b[38;5;241m2\u001b[39m, \u001b[38;5;241m3\u001b[39m, \u001b[38;5;241m4\u001b[39m, \u001b[38;5;241m5\u001b[39m]\n",
      "File \u001b[1;32mc:\\Users\\IT\\anaconda3\\envs\\fspsim\\lib\\site-packages\\pyssem\\model.py:163\u001b[0m, in \u001b[0;36mModel.initial_population\u001b[1;34m(self)\u001b[0m\n\u001b[0;32m    160\u001b[0m     \u001b[38;5;28;01mraise\u001b[39;00m \u001b[38;5;167;01mValueError\u001b[39;00m(\u001b[38;5;124m\"\u001b[39m\u001b[38;5;124mInvalid scenario properties provided.\u001b[39m\u001b[38;5;124m\"\u001b[39m)\n\u001b[0;32m    161\u001b[0m \u001b[38;5;28;01mtry\u001b[39;00m:\n\u001b[0;32m    162\u001b[0m     \u001b[38;5;66;03m# If this function is called, only create x0. \u001b[39;00m\n\u001b[1;32m--> 163\u001b[0m     \u001b[38;5;28;43mself\u001b[39;49m\u001b[38;5;241;43m.\u001b[39;49m\u001b[43mscenario_properties\u001b[49m\u001b[38;5;241;43m.\u001b[39;49m\u001b[43minitial_pop_and_launch\u001b[49m\u001b[43m(\u001b[49m\u001b[43mbaseline\u001b[49m\u001b[38;5;241;43m=\u001b[39;49m\u001b[38;5;28;43;01mTrue\u001b[39;49;00m\u001b[43m)\u001b[49m\n\u001b[0;32m    165\u001b[0m \u001b[38;5;28;01mexcept\u001b[39;00m \u001b[38;5;167;01mException\u001b[39;00m \u001b[38;5;28;01mas\u001b[39;00m e:\n\u001b[0;32m    166\u001b[0m     \u001b[38;5;28;01mraise\u001b[39;00m \u001b[38;5;167;01mRuntimeError\u001b[39;00m(\u001b[38;5;124mf\u001b[39m\u001b[38;5;124m\"\u001b[39m\u001b[38;5;124mFailed to initialize population: \u001b[39m\u001b[38;5;132;01m{\u001b[39;00m\u001b[38;5;28mstr\u001b[39m(e)\u001b[38;5;132;01m}\u001b[39;00m\u001b[38;5;124m\"\u001b[39m)\n",
      "File \u001b[1;32mc:\\Users\\IT\\Documents\\UCL\\pyssem\\pyssem\\utils\\simulation\\scen_properties.py:282\u001b[0m, in \u001b[0;36mScenarioProperties.initial_pop_and_launch\u001b[1;34m(self, baseline)\u001b[0m\n\u001b[0;32m    279\u001b[0m \u001b[38;5;28mprint\u001b[39m(\u001b[38;5;124m'\u001b[39m\u001b[38;5;124mAs no file is provided. Downloading a launch file...:\u001b[39m\u001b[38;5;124m'\u001b[39m)\n\u001b[0;32m    280\u001b[0m file_id \u001b[38;5;241m=\u001b[39m \u001b[38;5;124m'\u001b[39m\u001b[38;5;124m1O8EAyGhydH0Qj2alZEeEoj0dJLy7c5KE\u001b[39m\u001b[38;5;124m'\u001b[39m\n\u001b[1;32m--> 282\u001b[0m \u001b[43mdownload_file_from_google_drive\u001b[49m\u001b[43m(\u001b[49m\u001b[43mfile_id\u001b[49m\u001b[43m,\u001b[49m\u001b[43m \u001b[49m\u001b[43mlaunch_file_path\u001b[49m\u001b[43m)\u001b[49m\n\u001b[0;32m    284\u001b[0m \u001b[38;5;66;03m# Check to see if the file has been downloaded\u001b[39;00m\n\u001b[0;32m    285\u001b[0m \u001b[38;5;28;01mif\u001b[39;00m os\u001b[38;5;241m.\u001b[39mpath\u001b[38;5;241m.\u001b[39mexists(launch_file_path):\n",
      "File \u001b[1;32mc:\\Users\\IT\\Documents\\UCL\\pyssem\\pyssem\\utils\\handlers\\handlers.py:37\u001b[0m, in \u001b[0;36mdownload_file_from_google_drive\u001b[1;34m(file_id, output_file)\u001b[0m\n\u001b[0;32m     35\u001b[0m         \u001b[38;5;28;01mfor\u001b[39;00m chunk \u001b[38;5;129;01min\u001b[39;00m download_response\u001b[38;5;241m.\u001b[39miter_content(chunk_size\u001b[38;5;241m=\u001b[39m\u001b[38;5;241m8192\u001b[39m):\n\u001b[0;32m     36\u001b[0m             \u001b[38;5;28;01mif\u001b[39;00m chunk:  \u001b[38;5;66;03m# filter out keep-alive new chunks\u001b[39;00m\n\u001b[1;32m---> 37\u001b[0m                 \u001b[43mfile\u001b[49m\u001b[38;5;241;43m.\u001b[39;49m\u001b[43mwrite\u001b[49m\u001b[43m(\u001b[49m\u001b[43mchunk\u001b[49m\u001b[43m)\u001b[49m\n\u001b[0;32m     38\u001b[0m     \u001b[38;5;28mprint\u001b[39m(\u001b[38;5;124m\"\u001b[39m\u001b[38;5;124mFile downloaded successfully to:\u001b[39m\u001b[38;5;124m\"\u001b[39m, output_file)\n\u001b[0;32m     39\u001b[0m \u001b[38;5;28;01melse\u001b[39;00m:\n",
      "\u001b[1;31mKeyboardInterrupt\u001b[0m: "
     ]
    }
   ],
   "source": [
    "import os \n",
    "import json \n",
    "from pyssem.model import Model\n",
    "\n",
    "with open('three_species.json') as f:\n",
    "        simulation_data = json.load(f)\n",
    "\n",
    "scenario_props = simulation_data[\"scenario_properties\"]\n",
    "\n",
    "# Create an instance of the pySSEM_model with the simulation parameters\n",
    "model = Model(\n",
    "    start_date=scenario_props[\"start_date\"].split(\"T\")[0],  # Assuming the date is in ISO format\n",
    "    simulation_duration=scenario_props[\"simulation_duration\"],\n",
    "    steps=scenario_props[\"steps\"],\n",
    "    min_altitude=scenario_props[\"min_altitude\"],\n",
    "    max_altitude=scenario_props[\"max_altitude\"],\n",
    "    n_shells=scenario_props[\"n_shells\"],\n",
    "    launch_function=scenario_props[\"launch_function\"],\n",
    "    integrator=scenario_props[\"integrator\"],\n",
    "    density_model=scenario_props[\"density_model\"],\n",
    "    LC=scenario_props[\"LC\"],\n",
    "    v_imp = scenario_props.get(\"v_imp\", None),\n",
    "    fragment_spreading=scenario_props.get(\"fragment_spreading\", True),\n",
    "    parallel_processing=scenario_props.get(\"parallel_processing\", False),\n",
    "    baseline=scenario_props.get(\"baseline\", False)\n",
    ")\n",
    "\n",
    "species = simulation_data[\"species\"]\n",
    "\n",
    "species_list = model.configure_species(species)\n",
    "\n",
    "model.initial_population()\n",
    "model.build_model()\n",
    "\n",
    "times = [0, 1, 2, 3, 4, 5]\n",
    "\n",
    "output = model.integrate(times)"
   ]
  }
 ],
 "metadata": {
  "kernelspec": {
   "display_name": "fspsim",
   "language": "python",
   "name": "python3"
  },
  "language_info": {
   "codemirror_mode": {
    "name": "ipython",
    "version": 3
   },
   "file_extension": ".py",
   "mimetype": "text/x-python",
   "name": "python",
   "nbconvert_exporter": "python",
   "pygments_lexer": "ipython3",
   "version": "3.9.18"
  }
 },
 "nbformat": 4,
 "nbformat_minor": 2
}
