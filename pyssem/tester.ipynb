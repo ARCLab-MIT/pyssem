{
 "cells": [
  {
   "cell_type": "code",
   "execution_count": 18,
   "metadata": {},
   "outputs": [],
   "source": [
    "import pickle\n",
    "import os\n",
    "import sympy as sp\n",
    "\n",
    "# load the scenario-properties-baseline.pkl file\n",
    "with open('../scenario-properties-baseline.pkl', 'rb') as f:\n",
    "    scenario_properties = pickle.load(f)"
   ]
  },
  {
   "cell_type": "code",
   "execution_count": 19,
   "metadata": {},
   "outputs": [
    {
     "data": {
      "text/plain": [
       "[[array([1.7999856, 1.7999856, 0.       , 0.       , 1.7999856, 0.       ,\n",
       "         0.       , 3.5999712, 1.7999856, 0.       ]),\n",
       "  array([0.       , 8.999928 , 0.       , 3.5999712, 0.       , 5.3999568,\n",
       "         1.7999856, 3.5999712, 3.5999712, 0.       ]),\n",
       "  array([7.19994240e+00, 1.79998560e+00, 1.73518612e+03, 1.74238606e+03,\n",
       "         1.97818417e+03, 1.97818417e+03, 2.18698250e+03, 2.19958240e+03,\n",
       "         2.41738066e+03, 2.40838073e+03]),\n",
       "  array([46.7996256, 35.999712 , 34.1997264, 37.7996976, 41.3996688,\n",
       "         57.5995392, 34.1997264, 26.999784 , 48.5996112, 25.1997984]),\n",
       "  array([1330.18935849, 1299.58960328, 1812.58549932, 1810.78551372,\n",
       "         1960.18431853, 1927.78457772, 2152.78277774, 2127.58297934,\n",
       "         2442.58045936, 2465.98027216]),\n",
       "  array([500.39599683, 493.19605443, 588.59529124, 602.99517604,\n",
       "         660.59471524, 660.59471524, 710.99431205, 718.19425445,\n",
       "         718.19425445, 757.79393765]),\n",
       "  array([129.59896321, 125.99899201, 142.19886241, 142.19886241,\n",
       "         163.79868961, 160.19871841, 187.19850241, 179.99856001,\n",
       "         192.59845921, 196.19843041]),\n",
       "  array([0.       , 1.7999856, 0.       , 3.5999712, 0.       , 1.7999856,\n",
       "         0.       , 5.3999568, 1.7999856, 1.7999856]),\n",
       "  array([0.       , 0.       , 0.       , 0.       , 1.7999856, 0.       ,\n",
       "         0.       , 0.       , 1.7999856, 0.       ]),\n",
       "  None,\n",
       "  array([0.       , 0.       , 1.7999856, 0.       , 0.       , 0.       ,\n",
       "         0.       , 0.       , 0.       , 0.       ]),\n",
       "  array([30.5997552, 25.1997984, 46.7996256, 44.99964  , 37.7996976,\n",
       "         32.3997408, 46.7996256, 48.5996112, 43.1996544, 41.3996688]),\n",
       "  array([ 0.       ,  1.7999856,  7.1999424, 19.7998416, 14.3998848,\n",
       "         12.5998992, 17.999856 , 23.3998128, 21.5998272, 21.5998272]),\n",
       "  None,\n",
       "  array([  82.79933761,   80.99935201,  889.19288646,  903.59277126,\n",
       "         1000.79199366,  993.59205126, 1099.79120167, 1099.79120167,\n",
       "         1214.99028008, 1191.59046728]),\n",
       "  None,\n",
       "  array([116.99906401, 120.59903521, 143.99884801, 151.19879041,\n",
       "         156.59874721, 158.39873281, 172.79861761, 167.39866081,\n",
       "         174.59860321, 178.19857441]),\n",
       "  None,\n",
       "  array([0.       , 0.       , 0.       , 0.       , 0.       , 0.       ,\n",
       "         0.       , 1.7999856, 0.       , 0.       ]),\n",
       "  None],\n",
       " [None,\n",
       "  array([0.       , 0.       , 1.7999856, 0.       , 0.       , 1.7999856,\n",
       "         0.       , 0.       , 0.       , 0.       ]),\n",
       "  array([3.5999712, 3.5999712, 5.3999568, 1.7999856, 5.3999568, 3.5999712,\n",
       "         5.3999568, 1.7999856, 3.5999712, 5.3999568]),\n",
       "  array([ 7.1999424, 10.7999136, 23.3998128, 12.5998992, 12.5998992,\n",
       "         10.7999136, 16.1998704, 12.5998992, 10.7999136, 16.1998704]),\n",
       "  array([50.3995968 , 59.3995248 , 52.1995824 , 75.5993952 , 68.3994528 ,\n",
       "         89.99928001, 53.999568  , 70.1994384 , 44.99964   , 82.79933761]),\n",
       "  array([34.1997264, 10.7999136, 28.7997696, 28.7997696, 19.7998416,\n",
       "         25.1997984, 16.1998704, 19.7998416, 30.5997552, 10.7999136]),\n",
       "  array([1.7999856, 5.3999568, 8.999928 , 5.3999568, 3.5999712, 5.3999568,\n",
       "         5.3999568, 5.3999568, 7.1999424, 3.5999712]),\n",
       "  array([ 7.1999424,  7.1999424,  1.7999856, 10.7999136,  7.1999424,\n",
       "          3.5999712,  5.3999568, 10.7999136, 10.7999136, 10.7999136]),\n",
       "  array([10.7999136, 12.5998992,  3.5999712,  7.1999424,  8.999928 ,\n",
       "          8.999928 , 10.7999136,  7.1999424,  5.3999568, 12.5998992]),\n",
       "  array([3.5999712, 1.7999856, 5.3999568, 5.3999568, 1.7999856, 3.5999712,\n",
       "         1.7999856, 0.       , 1.7999856, 1.7999856]),\n",
       "  array([0.       , 1.7999856, 0.       , 1.7999856, 3.5999712, 0.       ,\n",
       "         1.7999856, 3.5999712, 3.5999712, 3.5999712]),\n",
       "  None,\n",
       "  array([ 5.3999568,  1.7999856,  3.5999712,  0.       ,  3.5999712,\n",
       "         10.7999136,  5.3999568,  3.5999712,  1.7999856,  1.7999856]),\n",
       "  array([0.       , 0.       , 0.       , 1.7999856, 0.       , 0.       ,\n",
       "         0.       , 0.       , 0.       , 0.       ]),\n",
       "  array([0.       , 0.       , 0.       , 0.       , 0.       , 0.       ,\n",
       "         0.       , 0.       , 1.7999856, 0.       ]),\n",
       "  None,\n",
       "  array([1.7999856, 0.       , 0.       , 0.       , 0.       , 0.       ,\n",
       "         0.       , 0.       , 0.       , 0.       ]),\n",
       "  None,\n",
       "  array([0.       , 3.5999712, 3.5999712, 0.       , 3.5999712, 0.       ,\n",
       "         0.       , 1.7999856, 5.3999568, 0.       ]),\n",
       "  None],\n",
       " [array([0.       , 1.7999856, 0.       , 0.       , 0.       , 0.       ,\n",
       "         0.       , 0.       , 0.       , 0.       ]),\n",
       "  array([1.7999856, 3.5999712, 0.       , 1.7999856, 0.       , 1.7999856,\n",
       "         3.5999712, 0.       , 1.7999856, 3.5999712]),\n",
       "  array([3.5999712, 0.       , 3.5999712, 7.1999424, 3.5999712, 1.7999856,\n",
       "         0.       , 1.7999856, 1.7999856, 1.7999856]),\n",
       "  array([0.       , 3.5999712, 1.7999856, 1.7999856, 3.5999712, 3.5999712,\n",
       "         3.5999712, 3.5999712, 5.3999568, 1.7999856]),\n",
       "  array([ 1.7999856, 12.5998992,  3.5999712,  8.999928 ,  3.5999712,\n",
       "          0.       ,  5.3999568,  5.3999568, 10.7999136,  1.7999856]),\n",
       "  array([ 8.999928 ,  8.999928 ,  5.3999568, 14.3998848,  7.1999424,\n",
       "          5.3999568,  5.3999568, 12.5998992, 10.7999136,  1.7999856]),\n",
       "  array([12.5998992,  5.3999568,  3.5999712,  3.5999712,  3.5999712,\n",
       "          8.999928 ,  5.3999568,  1.7999856,  1.7999856,  3.5999712]),\n",
       "  array([25.1997984, 10.7999136, 10.7999136, 12.5998992, 16.1998704,\n",
       "         17.999856 , 30.5997552, 16.1998704, 16.1998704, 10.7999136]),\n",
       "  array([35.999712 , 32.3997408, 34.1997264, 43.1996544, 16.1998704,\n",
       "         44.99964  , 34.1997264, 39.5996832, 34.1997264, 28.7997696]),\n",
       "  array([26.999784 , 21.5998272, 17.999856 , 30.5997552, 35.999712 ,\n",
       "         26.999784 , 19.7998416, 26.999784 , 16.1998704, 37.7996976]),\n",
       "  array([ 5.3999568,  8.999928 , 16.1998704,  7.1999424, 14.3998848,\n",
       "          5.3999568,  7.1999424,  5.3999568,  7.1999424, 10.7999136]),\n",
       "  array([0.       , 3.5999712, 0.       , 0.       , 1.7999856, 1.7999856,\n",
       "         5.3999568, 0.       , 5.3999568, 1.7999856]),\n",
       "  array([10.7999136,  3.5999712,  5.3999568,  0.       ,  0.       ,\n",
       "          1.7999856,  5.3999568,  1.7999856,  5.3999568,  5.3999568]),\n",
       "  array([0.       , 0.       , 0.       , 1.7999856, 1.7999856, 0.       ,\n",
       "         0.       , 1.7999856, 0.       , 0.       ]),\n",
       "  array([0.       , 0.       , 0.       , 0.       , 0.       , 1.7999856,\n",
       "         0.       , 0.       , 0.       , 0.       ]),\n",
       "  None,\n",
       "  array([0.       , 0.       , 0.       , 0.       , 0.       , 0.       ,\n",
       "         0.       , 0.       , 1.7999856, 0.       ]),\n",
       "  None,\n",
       "  array([0.       , 0.       , 0.       , 0.       , 0.       , 1.7999856,\n",
       "         0.       , 0.       , 0.       , 1.7999856]),\n",
       "  None]]"
      ]
     },
     "execution_count": 19,
     "metadata": {},
     "output_type": "execute_result"
    }
   ],
   "source": [
    "scenario_properties.full_lambda"
   ]
  },
  {
   "cell_type": "code",
   "execution_count": 2,
   "metadata": {},
   "outputs": [],
   "source": [
    "equations_flattened = [scenario_properties.full_coll[i, j] for j in range(scenario_properties.full_coll.cols) for i in range(scenario_properties.full_coll.rows)]\n",
    "equations = [sp.lambdify(scenario_properties.all_symbolic_vars, eq, 'numpy') for eq in equations_flattened]"
   ]
  },
  {
   "cell_type": "code",
   "execution_count": 3,
   "metadata": {},
   "outputs": [],
   "source": [
    "x0 = scenario_properties.x0.T.values.flatten()"
   ]
  },
  {
   "cell_type": "code",
   "execution_count": 9,
   "metadata": {},
   "outputs": [],
   "source": [
    "import numpy as np\n",
    "# pass the x0 values to the equations\n",
    "values = [eq(*x0) for eq in equations]\n",
    "\n",
    "# create a matrix, each column has the next 40 items of values\n",
    "values \n",
    "\n",
    "values = [values[i:i+10] for i in range(0, len(values), 10)]\n",
    "\n",
    "su_only = values[1]\n",
    "\n",
    "collision_probability = 1 - np.exp(su_only)"
   ]
  },
  {
   "cell_type": "code",
   "execution_count": 12,
   "metadata": {},
   "outputs": [
    {
     "data": {
      "image/png": "[encoded data removed]",
      "text/plain": [
       "<Figure size 640x480 with 1 Axes>"
      ]
     },
     "metadata": {},
     "output_type": "display_data"
    }
   ],
   "source": [
    "# create a bar chart of collision probability\n",
    "import matplotlib.pyplot as plt\n",
    "\n",
    "plt.bar(range(len(collision_probability)), collision_probability)\n",
    "plt.xlabel('Satellite')\n",
    "plt.ylabel('Collision Probability')\n",
    "plt.title('Collision Probability for each satellite')\n",
    "plt.show()"
   ]
  }
 ],
 "metadata": {
  "kernelspec": {
   "display_name": "pyssem-env",
   "language": "python",
   "name": "python3"
  },
  "language_info": {
   "codemirror_mode": {
    "name": "ipython",
    "version": 3
   },
   "file_extension": ".py",
   "mimetype": "text/x-python",
   "name": "python",
   "nbconvert_exporter": "python",
   "pygments_lexer": "ipython3",
   "version": "3.9.20"
  }
 },
 "nbformat": 4,
 "nbformat_minor": 2
}
