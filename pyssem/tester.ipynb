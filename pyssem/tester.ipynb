{
 "cells": [
  {
   "cell_type": "code",
   "execution_count": 14,
   "metadata": {},
   "outputs": [
    {
     "name": "stdout",
     "output_type": "stream",
     "text": [
      "0.08772957298397858\n"
     ]
    }
   ],
   "source": [
    "import numpy as np\n",
    "\n",
    " \n",
    "# R = np.array([-719526.6621028944,2229016.6147061656,6467758.2036822615]) / 1000\n",
    "R = np.array([6878, 0, 0])\n",
    "V = np.array([667.6659114057531,7191.763304403305,-2398.879466271816]) / 1000\n",
    "\n",
    "V = np.abs(V)\n",
    "h = np.cross(R, V)\n",
    "\n",
    "mu = 398600.4418  # km^3/s^2\n",
    "\n",
    "# Calculate eccentricity vector e\n",
    "e_vector = (np.cross(V, h) / mu) - (R / np.linalg.norm(R))\n",
    "\n",
    "e = np.linalg.norm(e_vector)\n",
    "\n",
    "print(e)"
   ]
  }
 ],
 "metadata": {
  "kernelspec": {
   "display_name": "fspsim",
   "language": "python",
   "name": "python3"
  },
  "language_info": {
   "codemirror_mode": {
    "name": "ipython",
    "version": 3
   },
   "file_extension": ".py",
   "mimetype": "text/x-python",
   "name": "python",
   "nbconvert_exporter": "python",
   "pygments_lexer": "ipython3",
   "version": "3.9.18"
  }
 },
 "nbformat": 4,
 "nbformat_minor": 2
}
