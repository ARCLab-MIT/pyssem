{
 "cells": [
  {
   "cell_type": "code",
   "execution_count": 19,
   "metadata": {},
   "outputs": [],
   "source": [
    "import pickle\n",
    "import os\n",
    "import sympy as sp\n",
    "\n",
    "# load the scenario-properties-baseline.pkl file\n",
    "with open('../scenario-properties-baseline.pkl', 'rb') as f:\n",
    "    scenario_properties = pickle.load(f)"
   ]
  },
  {
   "cell_type": "code",
   "execution_count": 20,
   "metadata": {},
   "outputs": [],
   "source": [
    "equations_flattened = [scenario_properties.full_coll[i, j] for j in range(scenario_properties.full_coll.cols) for i in range(scenario_properties.full_coll.rows)]\n",
    "equations = [sp.lambdify(scenario_properties.all_symbolic_vars, eq, 'numpy') for eq in equations_flattened]"
   ]
  },
  {
   "cell_type": "code",
   "execution_count": null,
   "metadata": {},
   "outputs": [],
   "source": [
    "x0 = scenario_properties.x0.T.values.flatten()\n",
    "\n",
    "# pass the x0 values to the equations\n",
    "values = [eq(*x0) for eq in equations]\n",
    "\n",
    "# create a matrix, each column has the next 40 items of values\n",
    "values \n",
    "\n",
    "values = [values[i:i+40] for i in range(0, len(values), 40)]\n",
    "\n",
    "su_only = values[1]\n",
    "\n",
    "collision_probability = 1 - np.exp(su_only)"
   ]
  }
 ],
 "metadata": {
  "kernelspec": {
   "display_name": "fspsim",
   "language": "python",
   "name": "python3"
  },
  "language_info": {
   "codemirror_mode": {
    "name": "ipython",
    "version": 3
   },
   "file_extension": ".py",
   "mimetype": "text/x-python",
   "name": "python",
   "nbconvert_exporter": "python",
   "pygments_lexer": "ipython3",
   "version": "3.9.18"
  }
 },
 "nbformat": 4,
 "nbformat_minor": 2
}
