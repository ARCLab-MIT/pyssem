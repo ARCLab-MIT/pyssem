{
 "cells": [
  {
   "cell_type": "code",
   "execution_count": null,
   "metadata": {},
   "outputs": [
    {
     "ename": "ImportError",
     "evalue": "attempted relative import with no known parent package",
     "output_type": "error",
     "traceback": [
      "\u001b[0;31m---------------------------------------------------------------------------\u001b[0m",
      "\u001b[0;31mImportError\u001b[0m                               Traceback (most recent call last)",
      "Cell \u001b[0;32mIn[2], line 1\u001b[0m\n\u001b[0;32m----> 1\u001b[0m \u001b[38;5;28;01mfrom\u001b[39;00m\u001b[38;5;250m \u001b[39m\u001b[38;5;21;01m.\u001b[39;00m\u001b[38;5;21;01mcollisions\u001b[39;00m\u001b[38;5;21;01m.\u001b[39;00m\u001b[38;5;21;01mNASA_SBM_frags\u001b[39;00m\u001b[38;5;250m \u001b[39m\u001b[38;5;28;01mimport\u001b[39;00m \u001b[38;5;241m*\u001b[39m\n",
      "\u001b[0;31mImportError\u001b[0m: attempted relative import with no known parent package"
     ]
    }
   ],
   "source": []
  },
  {
   "cell_type": "code",
   "execution_count": 33,
   "metadata": {},
   "outputs": [
    {
     "name": "stdout",
     "output_type": "stream",
     "text": [
      "Unexpected exception formatting exception. Falling back to standard exception\n"
     ]
    },
    {
     "name": "stderr",
     "output_type": "stream",
     "text": [
      "Traceback (most recent call last):\n",
      "  File \"c:\\Users\\IT\\anaconda3\\envs\\pyssem-env\\lib\\site-packages\\IPython\\core\\interactiveshell.py\", line 3550, in run_code\n",
      "    exec(code_obj, self.user_global_ns, self.user_ns)\n",
      "  File \"C:\\Users\\IT\\AppData\\Local\\Temp\\ipykernel_69512\\1835184305.py\", line 38, in <module>\n",
      "    debris1, debris2, isCatastrophic = frag_col_SBM_vec_lc2(0, p1_in, p2_in, param, LB)\n",
      "  File \"C:\\Users\\IT\\Documents\\UCL\\pyssem\\pyssem\\utils\\collisions\\NASA_SBM_frags.py\", line 249, in frag_col_SBM_vec_lc2\n",
      "ValueError: need at least one array to concatenate\n",
      "\n",
      "During handling of the above exception, another exception occurred:\n",
      "\n",
      "Traceback (most recent call last):\n",
      "  File \"c:\\Users\\IT\\anaconda3\\envs\\pyssem-env\\lib\\site-packages\\IPython\\core\\interactiveshell.py\", line 2144, in showtraceback\n",
      "    stb = self.InteractiveTB.structured_traceback(\n",
      "  File \"c:\\Users\\IT\\anaconda3\\envs\\pyssem-env\\lib\\site-packages\\IPython\\core\\ultratb.py\", line 1435, in structured_traceback\n",
      "    return FormattedTB.structured_traceback(\n",
      "  File \"c:\\Users\\IT\\anaconda3\\envs\\pyssem-env\\lib\\site-packages\\IPython\\core\\ultratb.py\", line 1326, in structured_traceback\n",
      "    return VerboseTB.structured_traceback(\n",
      "  File \"c:\\Users\\IT\\anaconda3\\envs\\pyssem-env\\lib\\site-packages\\IPython\\core\\ultratb.py\", line 1173, in structured_traceback\n",
      "    formatted_exception = self.format_exception_as_a_whole(etype, evalue, etb, number_of_lines_of_context,\n",
      "  File \"c:\\Users\\IT\\anaconda3\\envs\\pyssem-env\\lib\\site-packages\\IPython\\core\\ultratb.py\", line 1088, in format_exception_as_a_whole\n",
      "    frames.append(self.format_record(record))\n",
      "  File \"c:\\Users\\IT\\anaconda3\\envs\\pyssem-env\\lib\\site-packages\\IPython\\core\\ultratb.py\", line 970, in format_record\n",
      "    frame_info.lines, Colors, self.has_colors, lvals\n",
      "  File \"c:\\Users\\IT\\anaconda3\\envs\\pyssem-env\\lib\\site-packages\\IPython\\core\\ultratb.py\", line 792, in lines\n",
      "    return self._sd.lines\n",
      "  File \"c:\\Users\\IT\\anaconda3\\envs\\pyssem-env\\lib\\site-packages\\stack_data\\utils.py\", line 144, in cached_property_wrapper\n",
      "    value = obj.__dict__[self.func.__name__] = self.func(obj)\n",
      "  File \"c:\\Users\\IT\\anaconda3\\envs\\pyssem-env\\lib\\site-packages\\stack_data\\core.py\", line 734, in lines\n",
      "    pieces = self.included_pieces\n",
      "  File \"c:\\Users\\IT\\anaconda3\\envs\\pyssem-env\\lib\\site-packages\\stack_data\\utils.py\", line 144, in cached_property_wrapper\n",
      "    value = obj.__dict__[self.func.__name__] = self.func(obj)\n",
      "  File \"c:\\Users\\IT\\anaconda3\\envs\\pyssem-env\\lib\\site-packages\\stack_data\\core.py\", line 681, in included_pieces\n",
      "    pos = scope_pieces.index(self.executing_piece)\n",
      "  File \"c:\\Users\\IT\\anaconda3\\envs\\pyssem-env\\lib\\site-packages\\stack_data\\utils.py\", line 144, in cached_property_wrapper\n",
      "    value = obj.__dict__[self.func.__name__] = self.func(obj)\n",
      "  File \"c:\\Users\\IT\\anaconda3\\envs\\pyssem-env\\lib\\site-packages\\stack_data\\core.py\", line 660, in executing_piece\n",
      "    return only(\n",
      "  File \"c:\\Users\\IT\\anaconda3\\envs\\pyssem-env\\lib\\site-packages\\executing\\executing.py\", line 116, in only\n",
      "    raise NotOneValueFound('Expected one value, found 0')\n",
      "executing.executing.NotOneValueFound: Expected one value, found 0\n"
     ]
    }
   ],
   "source": [
    "p1_in = np.array([\n",
    "    100,  # mass in kg\n",
    "    5,     # radius in meters\n",
    "    7178,  # r_x in km\n",
    "    0,  # r_y in km\n",
    "    0,  # r_z in km\n",
    "    0,     # v_x in km/s\n",
    "    7.4,     # v_y in km/s\n",
    "    0,    # v_z in km/s\n",
    "    1.0      # object_class (dimensionless)\n",
    "])\n",
    "\n",
    "p2_in = np.array([\n",
    "    100,     # mass in kg\n",
    "    1,     # radius in meters\n",
    "    7178,  # r_x in km\n",
    "    0,  # r_y in km\n",
    "    0,  # r_z in km\n",
    "    0,     # v_x in km/s\n",
    "    7.4,     # v_y in km/s\n",
    "    0,    # v_z in km/s\n",
    "    1.0      # object_class (dimensionless)\n",
    "])\n",
    "\n",
    "# Define the param dictionary\n",
    "param = {\n",
    "    'req': 6.3781e+03,\n",
    "    'mu': 3.9860e+05,\n",
    "    'j2': 0.0011,\n",
    "    'max_frag': float('inf'),  # Inf in MATLAB translates to float('inf') in Python\n",
    "    'maxID': 0,\n",
    "    'density_profile': 'static'\n",
    "}\n",
    "\n",
    "# Lower bound (LB)\n",
    "LB = 0.1  # Assuming this is the lower bound in meters\n",
    "\n",
    "debris1, debris2, isCatastrophic = frag_col_SBM_vec_lc2(0, p1_in, p2_in, param, LB)"
   ]
  }
 ],
 "metadata": {
  "kernelspec": {
   "display_name": "pyssem-env",
   "language": "python",
   "name": "python3"
  },
  "language_info": {
   "codemirror_mode": {
    "name": "ipython",
    "version": 3
   },
   "file_extension": ".py",
   "mimetype": "text/x-python",
   "name": "python",
   "nbconvert_exporter": "python",
   "pygments_lexer": "ipython3",
   "version": "3.10.0"
  }
 },
 "nbformat": 4,
 "nbformat_minor": 2
}
