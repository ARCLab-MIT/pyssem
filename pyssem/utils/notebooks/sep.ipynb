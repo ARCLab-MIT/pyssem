{
 "cells": [
  {
   "cell_type": "markdown",
   "metadata": {},
   "source": [
    "# Space Environment Pathways\n",
    "This Jupyter Notebook will allow users to play around with the scenarios, in order to get to know the laucnh data.\n",
    "\n",
    "If you would like to use the scen_properties of a pickle file, then this must be located under the first pyssem folder. In the same folder as model.py"
   ]
  },
  {
   "cell_type": "code",
   "execution_count": 11,
   "metadata": {},
   "outputs": [
    {
     "name": "stderr",
     "output_type": "stream",
     "text": [
      "/var/folders/s7/wvhpsthj2y93nhzxmj7x1zw80000gn/T/ipykernel_15508/2881098126.py:4: DtypeWarning: Columns (4,5) have mixed types. Specify dtype option on import or set low_memory=False.\n",
      "  T = pd.read_csv(path)\n"
     ]
    }
   ],
   "source": [
    "import pandas as pd\n",
    "\n",
    "path = '/Users/indigobrownhall/Code/pyssem/pyssem/utils/launch/data/ref_scen_SEP1.csv' # your path to the scenario csv file\n",
    "T = pd.read_csv(path)\n",
    "\n",
    "# Only use if required, you can run the model, it will save a pickle file and then you can use this to get the scenario data. \n",
    "# import pickle\n",
    "# with open('../scenario-properties-baseline.pkl', 'rb') as f:\n",
    "#     scen_properties = pickle.load(f)"
   ]
  },
  {
   "cell_type": "markdown",
   "metadata": {},
   "source": [
    "Show all of the columns available, the data types and an example:"
   ]
  },
  {
   "cell_type": "code",
   "execution_count": 12,
   "metadata": {},
   "outputs": [
    {
     "name": "stdout",
     "output_type": "stream",
     "text": [
      "Column: obj_id\n",
      "Data Type: int64\n",
      "Example: 1\n",
      "\n",
      "Column: phase_desc\n",
      "Data Type: object\n",
      "Example: debris/derelict\n",
      "\n",
      "Column: phase\n",
      "Data Type: int64\n",
      "Example: 4\n",
      "\n",
      "Column: par_id\n",
      "Data Type: float64\n",
      "Example: nan\n",
      "\n",
      "Column: operating_agency\n",
      "Data Type: object\n",
      "Example: nan\n",
      "\n",
      "Column: const_name\n",
      "Data Type: object\n",
      "Example: nan\n",
      "\n",
      "Column: const_shell_id\n",
      "Data Type: float64\n",
      "Example: nan\n",
      "\n",
      "Column: mass\n",
      "Data Type: float64\n",
      "Example: 1.47\n",
      "\n",
      "Column: area\n",
      "Data Type: float64\n",
      "Example: 0.0214\n",
      "\n",
      "Column: diam_lcola\n",
      "Data Type: float64\n",
      "Example: 0.165068\n",
      "\n",
      "Column: diam_tumbl\n",
      "Data Type: float64\n",
      "Example: 0.131711\n",
      "\n",
      "Column: diam_char\n",
      "Data Type: float64\n",
      "Example: 0.146674\n",
      "\n",
      "Column: obj_type\n",
      "Data Type: int64\n",
      "Example: 2\n",
      "\n",
      "Column: length\n",
      "Data Type: float64\n",
      "Example: nan\n",
      "\n",
      "Column: width\n",
      "Data Type: float64\n",
      "Example: nan\n",
      "\n",
      "Column: depth\n",
      "Data Type: float64\n",
      "Example: nan\n",
      "\n",
      "Column: active\n",
      "Data Type: float64\n",
      "Example: 0.0\n",
      "\n",
      "Column: maneuverable\n",
      "Data Type: float64\n",
      "Example: 0.0\n",
      "\n",
      "Column: stkp_flg\n",
      "Data Type: float64\n",
      "Example: 0.0\n",
      "\n",
      "Column: stkp_box_r\n",
      "Data Type: float64\n",
      "Example: 0.0\n",
      "\n",
      "Column: stkp_box_i\n",
      "Data Type: float64\n",
      "Example: 0.0\n",
      "\n",
      "Column: stkp_box_c\n",
      "Data Type: float64\n",
      "Example: 0.0\n",
      "\n",
      "Column: disp_type\n",
      "Data Type: float64\n",
      "Example: 7.0\n",
      "\n",
      "Column: c2r\n",
      "Data Type: float64\n",
      "Example: 0.0\n",
      "\n",
      "Column: pc_thresh\n",
      "Data Type: float64\n",
      "Example: nan\n",
      "\n",
      "Column: pc_goal\n",
      "Data Type: float64\n",
      "Example: nan\n",
      "\n",
      "Column: man_commit\n",
      "Data Type: float64\n",
      "Example: nan\n",
      "\n",
      "Column: man_max_dv\n",
      "Data Type: float64\n",
      "Example: nan\n",
      "\n",
      "Column: man_dv_i_flg\n",
      "Data Type: float64\n",
      "Example: nan\n",
      "\n",
      "Column: year_start\n",
      "Data Type: float64\n",
      "Example: 1958.0\n",
      "\n",
      "Column: month_start\n",
      "Data Type: float64\n",
      "Example: 3.0\n",
      "\n",
      "Column: day_start\n",
      "Data Type: float64\n",
      "Example: 17.0\n",
      "\n",
      "Column: hour_start\n",
      "Data Type: float64\n",
      "Example: 0.0\n",
      "\n",
      "Column: minute_start\n",
      "Data Type: float64\n",
      "Example: 0.0\n",
      "\n",
      "Column: second_start\n",
      "Data Type: float64\n",
      "Example: 0.0\n",
      "\n",
      "Column: mjd_start\n",
      "Data Type: float64\n",
      "Example: 60494.561161\n",
      "\n",
      "Column: year_final\n",
      "Data Type: float64\n",
      "Example: 2229.0\n",
      "\n",
      "Column: month_final\n",
      "Data Type: float64\n",
      "Example: 5.0\n",
      "\n",
      "Column: day_final\n",
      "Data Type: float64\n",
      "Example: 17.0\n",
      "\n",
      "Column: hour_final\n",
      "Data Type: float64\n",
      "Example: 0.0\n",
      "\n",
      "Column: minute_final\n",
      "Data Type: float64\n",
      "Example: 0.0\n",
      "\n",
      "Column: second_final\n",
      "Data Type: float64\n",
      "Example: 0.0\n",
      "\n",
      "Column: mjd_final\n",
      "Data Type: float64\n",
      "Example: 135321.0\n",
      "\n",
      "Column: year_epoch\n",
      "Data Type: float64\n",
      "Example: 1958.0\n",
      "\n",
      "Column: month_epoch\n",
      "Data Type: float64\n",
      "Example: 3.0\n",
      "\n",
      "Column: day_epoch\n",
      "Data Type: float64\n",
      "Example: 17.0\n",
      "\n",
      "Column: hour_epoch\n",
      "Data Type: float64\n",
      "Example: 0.0\n",
      "\n",
      "Column: minute_epoch\n",
      "Data Type: float64\n",
      "Example: 0.0\n",
      "\n",
      "Column: second_epoch\n",
      "Data Type: float64\n",
      "Example: 0.0\n",
      "\n",
      "Column: mjd_epoch\n",
      "Data Type: float64\n",
      "Example: 60494.561161\n",
      "\n",
      "Column: sma\n",
      "Data Type: float64\n",
      "Example: 8616.443\n",
      "\n",
      "Column: ecc\n",
      "Data Type: float64\n",
      "Example: 0.184192\n",
      "\n",
      "Column: inc\n",
      "Data Type: float64\n",
      "Example: 34.2488\n",
      "\n",
      "Column: raan\n",
      "Data Type: float64\n",
      "Example: 356.7141\n",
      "\n",
      "Column: aop\n",
      "Data Type: float64\n",
      "Example: 161.3502\n",
      "\n",
      "Column: ma\n",
      "Data Type: float64\n",
      "Example: 206.4756\n",
      "\n",
      "Column: eci_x\n",
      "Data Type: float64\n",
      "Example: 10067.15711\n",
      "\n",
      "Column: eci_y\n",
      "Data Type: float64\n",
      "Example: -569.998349\n",
      "\n",
      "Column: eci_z\n",
      "Data Type: float64\n",
      "Example: 5.427363\n",
      "\n",
      "Column: eci_vx\n",
      "Data Type: float64\n",
      "Example: -0.142887\n",
      "\n",
      "Column: eci_vy\n",
      "Data Type: float64\n",
      "Example: 4.737722\n",
      "\n",
      "Column: eci_vz\n",
      "Data Type: float64\n",
      "Example: 3.214775\n",
      "\n",
      "Column: obj_id_str\n",
      "Data Type: int64\n",
      "Example: 1\n",
      "\n",
      "Column: species_class\n",
      "Data Type: object\n",
      "Example: Sns\n",
      "\n"
     ]
    }
   ],
   "source": [
    "# print each column name, the data type and an example\n",
    "for col in T.columns:\n",
    "    print(f\"Column: {col}\")\n",
    "    print(f\"Data Type: {T[col].dtype}\")\n",
    "    print(f\"Example: {T[col].iloc[0]}\")\n",
    "    print()"
   ]
  },
  {
   "cell_type": "code",
   "execution_count": 13,
   "metadata": {},
   "outputs": [
    {
     "data": {
      "text/plain": [
       "<Axes: >"
      ]
     },
     "execution_count": 13,
     "metadata": {},
     "output_type": "execute_result"
    },
    {
     "data": {
      "image/png": "[encoded data removed]",
      "text/plain": [
       "<Figure size 640x480 with 1 Axes>"
      ]
     },
     "metadata": {},
     "output_type": "display_data"
    }
   ],
   "source": [
    "T['ecc'].hist()"
   ]
  },
  {
   "cell_type": "markdown",
   "metadata": {},
   "source": [
    "### Use this code - as a template -  to be able to explore the data. "
   ]
  },
  {
   "cell_type": "code",
   "execution_count": null,
   "metadata": {},
   "outputs": [
    {
     "data": {
      "image/png": "[encoded data removed]",
      "text/plain": [
       "<Figure size 800x500 with 1 Axes>"
      ]
     },
     "metadata": {},
     "output_type": "display_data"
    }
   ],
   "source": [
    "import matplotlib.pyplot as plt\n",
    "\n",
    "# Filter active satellites\n",
    "active_satellites = T[T['obj_type'] == 2]\n",
    "\n",
    "# Get counts of maneuverability values\n",
    "maneuver_counts = active_satellites['maneuverable'].value_counts().sort_index()\n",
    "\n",
    "# Plot\n",
    "plt.figure(figsize=(8, 5))\n",
    "plt.bar(maneuver_counts.index.astype(str), maneuver_counts.values, color='blue', alpha=0.7)\n",
    "plt.xlabel('Maneuverable (0 = No, 1 = Yes)')\n",
    "plt.ylabel('Number of Active Satellites')\n",
    "plt.title('Maneuverability of Active Satellites')\n",
    "plt.grid(axis='y')\n",
    "plt.tight_layout()\n",
    "plt.show()"
   ]
  },
  {
   "cell_type": "markdown",
   "metadata": {},
   "source": [
    "Now we can check which filters work. "
   ]
  },
  {
   "cell_type": "code",
   "execution_count": 14,
   "metadata": {},
   "outputs": [],
   "source": [
    "# This function has been taken for pyssem and allows you to pass a list of species queries and test it. \n",
    "\n",
    "def assign_species_to_population(T, species_mapping):\n",
    "    \"\"\"\n",
    "    Applies a list of pandas query strings to assign species classes to the population.\n",
    "    \n",
    "    :param T: pandas.DataFrame representing the population\n",
    "    :param species_mapping: list of assignment strings (e.g., T.loc[...] = ...)\n",
    "    :return: updated DataFrame with 'species_class' assigned\n",
    "    \"\"\"\n",
    "    # Initialize the column\n",
    "    T['species_class'] = \"Unknown\"\n",
    "\n",
    "    # Apply each mapping rule via exec\n",
    "    for rule in species_mapping:\n",
    "        try:\n",
    "            exec(rule)\n",
    "        except Exception as e:\n",
    "            print(f\"Error applying rule: {rule}\\n\\t{e}\")\n",
    "\n",
    "    # Print summary of resulting species_class assignments\n",
    "    print(\"\\nSpecies class distribution:\")\n",
    "    print(T['species_class'].value_counts())\n",
    "\n",
    "    # Remove all objects that are still unknown\n",
    "    try:\n",
    "        \n",
    "        T = T[T['species_class'] != \"Unknown\"]\n",
    "        print(f\"\\n{T['species_class'].value_counts()['Unknown']} objects/rows are being removed.\")\n",
    "    except KeyError:\n",
    "        print(\"No unknown species classes found.\")\n",
    "\n",
    "    return T"
   ]
  },
  {
   "cell_type": "code",
   "execution_count": 15,
   "metadata": {},
   "outputs": [
    {
     "name": "stdout",
     "output_type": "stream",
     "text": [
      "\n",
      "Species class distribution:\n",
      "species_class\n",
      "N          50995\n",
      "S           7005\n",
      "Unknown     2585\n",
      "Sns         1465\n",
      "B            967\n",
      "Name: count, dtype: int64\n",
      "No unknown species classes found.\n"
     ]
    }
   ],
   "source": [
    "species_configuration = [\n",
    "    # Unslotted Satellites: 'Su' (must be done first to avoid being overwritten)\n",
    "    \"T.loc[(T['obj_type'] == 2) & (T['phase'] == 2) & (T['maneuverable'] == 1), 'species_class'] = 'Su'\",\n",
    "\n",
    "    # Cubesats / Non-maneuverable smallsats: 'Sns' (do this second)\n",
    "    \"T.loc[(T['obj_type'] == 2) & (T['mass'] <= 20), 'species_class'] = 'Sns'\",\n",
    "\n",
    "    # Slotted Constellation Satellites: 'S' (must come *after* Su/Sns)\n",
    "    \"T.loc[(T['obj_type'] == 2) & (T['phase'] == 2) & (T['maneuverable'] == 1) & T['const_name'].notna(), 'species_class'] = 'S'\",\n",
    "\n",
    "    # Debris: 'N' (must be phase 4 and mass >= 0.03)\n",
    "    \"T.loc[(T['obj_type'] >= 3), 'species_class'] = 'N'\",\n",
    "\n",
    "    # Rocket Bodies: 'B'\n",
    "    \"T.loc[(T['obj_type'] == 1), 'species_class'] = 'B'\"\n",
    "]\n",
    "\n",
    "# species_configuration = [\n",
    "#       \"T.loc[(T['obj_type'] >= 3), 'species_class'] = 'N'\",\n",
    "# ]\n",
    "# Apply the species configuration\n",
    "\n",
    "# filter between 200 and 2000\n",
    "T['apogee'] = T['sma'] * (1 + T['ecc'])\n",
    "T['perigee'] = T['sma'] * (1 - T['ecc'])\n",
    "T['alt'] = (T['apogee'] + T['perigee']) / 2 - 6378.1\n",
    "\n",
    "T = T[T['alt'] <= 2000]\n",
    "T = T[T['alt'] >= 200]\n",
    "\n",
    "T_new = assign_species_to_population(T, species_configuration)\n",
    "\n"
   ]
  },
  {
   "cell_type": "code",
   "execution_count": 20,
   "metadata": {},
   "outputs": [
    {
     "name": "stdout",
     "output_type": "stream",
     "text": [
      "[1.00000e-06 1.97000e-04 2.11320e-03 4.87660e-03 7.77240e-03 1.10485e-02\n",
      " 1.48876e-02 1.97397e-02 2.59198e-02 3.66936e-02 2.12473e-01]\n"
     ]
    }
   ],
   "source": [
    "import numpy as np\n",
    "\n",
    "ecc_bins = np.quantile(ecc_values, np.linspace(0, 1, 11))\n",
    "ecc_bins = np.unique(ecc_bins)  # remove duplicates if any flat areas\n",
    "print(ecc_bins)"
   ]
  },
  {
   "cell_type": "code",
   "execution_count": null,
   "metadata": {},
   "outputs": [],
   "source": []
  },
  {
   "cell_type": "code",
   "execution_count": null,
   "metadata": {},
   "outputs": [
    {
     "data": {
      "image/png": "[encoded data removed]",
      "text/plain": [
       "<Figure size 800x500 with 1 Axes>"
      ]
     },
     "metadata": {},
     "output_type": "display_data"
    }
   ],
   "source": [
    "import matplotlib.pyplot as plt\n",
    "\n",
    "debris = T[T['obj_type'] >= 3]\n",
    "debris = debris[debris['mass'] >= 1]\n",
    "\n",
    "plt.figure(figsize=(8, 5))\n",
    "debris['mass'].hist(bins=100, color='skyblue', edgecolor='black')\n",
    "plt.xlabel('Mass (kg)')\n",
    "plt.ylabel('Number of Objects')\n",
    "plt.title('Histogram of Object Mass')\n",
    "plt.grid(axis='y')\n",
    "plt.tight_layout()\n",
    "plt.xlim(0,10)\n",
    "plt.show()"
   ]
  },
  {
   "cell_type": "code",
   "execution_count": null,
   "metadata": {},
   "outputs": [
    {
     "ename": "NameError",
     "evalue": "name 'N_only' is not defined",
     "output_type": "error",
     "traceback": [
      "\u001b[0;31m---------------------------------------------------------------------------\u001b[0m",
      "\u001b[0;31mNameError\u001b[0m                                 Traceback (most recent call last)",
      "Cell \u001b[0;32mIn[9], line 4\u001b[0m\n\u001b[1;32m      1\u001b[0m \u001b[38;5;28;01mimport\u001b[39;00m\u001b[38;5;250m \u001b[39m\u001b[38;5;21;01mmatplotlib\u001b[39;00m\u001b[38;5;21;01m.\u001b[39;00m\u001b[38;5;21;01mpyplot\u001b[39;00m\u001b[38;5;250m \u001b[39m\u001b[38;5;28;01mas\u001b[39;00m\u001b[38;5;250m \u001b[39m\u001b[38;5;21;01mplt\u001b[39;00m\n\u001b[1;32m      3\u001b[0m \u001b[38;5;66;03m# Drop rows with missing year_start, mass, or phase\u001b[39;00m\n\u001b[0;32m----> 4\u001b[0m scatter_data \u001b[38;5;241m=\u001b[39m \u001b[43mN_only\u001b[49m[[\u001b[38;5;124m'\u001b[39m\u001b[38;5;124myear_start\u001b[39m\u001b[38;5;124m'\u001b[39m, \u001b[38;5;124m'\u001b[39m\u001b[38;5;124mmass\u001b[39m\u001b[38;5;124m'\u001b[39m, \u001b[38;5;124m'\u001b[39m\u001b[38;5;124mphase\u001b[39m\u001b[38;5;124m'\u001b[39m]]\u001b[38;5;241m.\u001b[39mdropna()\n\u001b[1;32m      6\u001b[0m \u001b[38;5;28mprint\u001b[39m(scatter_data[\u001b[38;5;124m'\u001b[39m\u001b[38;5;124mphase\u001b[39m\u001b[38;5;124m'\u001b[39m]\u001b[38;5;241m.\u001b[39mvalue_counts())\n\u001b[1;32m      8\u001b[0m \u001b[38;5;66;03m# Create scatter plot, color by 'phase'\u001b[39;00m\n",
      "\u001b[0;31mNameError\u001b[0m: name 'N_only' is not defined"
     ]
    }
   ],
   "source": [
    "import matplotlib.pyplot as plt\n",
    "\n",
    "# Drop rows with missing year_start, mass, or phase\n",
    "scatter_data = N_only[['year_start', 'mass', 'phase']].dropna()\n",
    "\n",
    "print(scatter_data['phase'].value_counts())\n",
    "\n",
    "# Create scatter plot, color by 'phase'\n",
    "plt.figure(figsize=(10, 6))\n",
    "scatter = plt.scatter(\n",
    "    scatter_data['year_start'],\n",
    "    scatter_data['mass'],\n",
    "    c=scatter_data['phase'],\n",
    "    cmap='viridis',  # or 'tab10', 'plasma', etc.\n",
    "    alpha=0.7,\n",
    "    s=20\n",
    ")\n",
    "\n",
    "plt.title('Mass vs. Start Year for N Species (Colored by Phase)')\n",
    "plt.xlabel('Start Year')\n",
    "plt.ylabel('Mass (kg)')\n",
    "plt.ylim(0, 10)\n",
    "plt.grid(True)\n",
    "plt.colorbar(scatter, label='Phase')\n",
    "plt.tight_layout()\n",
    "plt.show()"
   ]
  },
  {
   "cell_type": "code",
   "execution_count": null,
   "metadata": {},
   "outputs": [],
   "source": []
  },
  {
   "cell_type": "code",
   "execution_count": null,
   "metadata": {},
   "outputs": [],
   "source": []
  },
  {
   "cell_type": "code",
   "execution_count": null,
   "metadata": {},
   "outputs": [],
   "source": [
    "T_new"
   ]
  },
  {
   "cell_type": "code",
   "execution_count": null,
   "metadata": {},
   "outputs": [],
   "source": [
    "# load the results.json data\n",
    "import json\n",
    "import os\n",
    "import matplotlib.pyplot as plt\n",
    "\n",
    "# Define the path to the JSON file\n",
    "json_file_path = '/Users/indigobrownhall/Code/pyssem/figures/SEP2/results.json'\n",
    "\n",
    "# Check if the file exists\n",
    "if not os.path.exists(json_file_path):\n",
    "    raise FileNotFoundError(f\"The file {json_file_path} does not exist.\")\n",
    "\n",
    "# Load the JSON data\n",
    "with open(json_file_path, 'r') as file:\n",
    "    data = json.load(file)\n",
    "\n",
    "# Extract time and launch entries\n",
    "times = data['times']\n",
    "launch_entries = data['launch']\n",
    "\n",
    "# Plot each species' launch counts\n",
    "plt.figure(figsize=(12, 6))\n",
    "\n",
    "for entry in launch_entries:\n",
    "    species = entry['species']\n",
    "    counts = entry['counts']\n",
    "    plt.plot(times, counts, label=species)\n",
    "\n",
    "plt.title('Cumulative Launches Over Time by Species')\n",
    "plt.xlabel('Time')\n",
    "plt.ylabel('Cumulative Launches')\n",
    "plt.grid(True)\n",
    "plt.legend()\n",
    "plt.tight_layout()\n",
    "plt.show()"
   ]
  }
 ],
 "metadata": {
  "kernelspec": {
   "display_name": "pyssem-env",
   "language": "python",
   "name": "python3"
  },
  "language_info": {
   "codemirror_mode": {
    "name": "ipython",
    "version": 3
   },
   "file_extension": ".py",
   "mimetype": "text/x-python",
   "name": "python",
   "nbconvert_exporter": "python",
   "pygments_lexer": "ipython3",
   "version": "3.10.0"
  }
 },
 "nbformat": 4,
 "nbformat_minor": 2
}
