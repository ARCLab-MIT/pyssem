{
 "cells": [
  {
   "cell_type": "code",
   "execution_count": 2,
   "id": "bbae40e8",
   "metadata": {},
   "outputs": [
    {
     "name": "stderr",
     "output_type": "stream",
     "text": [
      "/var/folders/s7/wvhpsthj2y93nhzxmj7x1zw80000gn/T/ipykernel_75072/1185125708.py:3: DtypeWarning: Columns (4,5,63) have mixed types. Specify dtype option on import or set low_memory=False.\n",
      "  T = pd.read_csv(path)\n"
     ]
    }
   ],
   "source": [
    "import pandas as pd\n",
    "path = '/Users/indigobrownhall/Code/pyssem/pyssem/utils/launch/data/ref_scen_SEP2.csv' # your path to the scenario csv file\n",
    "T = pd.read_csv(path)\n",
    "T['apogee'] = T['sma'] * (1 + T['ecc'])\n",
    "T['perigee'] = T['sma'] * (1 - T['ecc'])\n",
    "T['alt'] = (T['apogee'] + T['perigee']) / 2 - 6378.1\n",
    "\n",
    "T = T[T['alt'] <= 2000]\n",
    "T = T[T['alt'] >= 200]"
   ]
  },
  {
   "cell_type": "code",
   "execution_count": 3,
   "id": "f17c4839",
   "metadata": {},
   "outputs": [
    {
     "name": "stdout",
     "output_type": "stream",
     "text": [
      "\n",
      "Species class distribution:\n",
      "species_class\n",
      "Unknown    363936\n",
      "S          288279\n",
      "Sns         26376\n",
      "Su          21168\n",
      "N           19709\n",
      "B            6034\n",
      "Name: count, dtype: int64\n",
      "No unknown species classes found.\n"
     ]
    }
   ],
   "source": [
    "# This function has been taken for pyssem and allows you to pass a list of species queries and test it. \n",
    "\n",
    "def assign_species_to_population(T, species_mapping):\n",
    "    \"\"\"\n",
    "    Applies a list of pandas query strings to assign species classes to the population.\n",
    "    \n",
    "    :param T: pandas.DataFrame representing the population\n",
    "    :param species_mapping: list of assignment strings (e.g., T.loc[...] = ...)\n",
    "    :return: updated DataFrame with 'species_class' assigned\n",
    "    \"\"\"\n",
    "    # Initialize the column\n",
    "    T['species_class'] = \"Unknown\"\n",
    "\n",
    "    # Apply each mapping rule via exec\n",
    "    for rule in species_mapping:\n",
    "        try:\n",
    "            exec(rule)\n",
    "        except Exception as e:\n",
    "            print(f\"Error applying rule: {rule}\\n\\t{e}\")\n",
    "\n",
    "    # Print summary of resulting species_class assignments\n",
    "    print(\"\\nSpecies class distribution:\")\n",
    "    print(T['species_class'].value_counts())\n",
    "\n",
    "    # Remove all objects that are still unknown\n",
    "    try:\n",
    "        \n",
    "        T = T[T['species_class'] != \"Unknown\"]\n",
    "        print(f\"\\n{T['species_class'].value_counts()['Unknown']} objects/rows are being removed.\")\n",
    "    except KeyError:\n",
    "        print(\"No unknown species classes found.\")\n",
    "\n",
    "    return T\n",
    "\n",
    "species_configuration = [\n",
    "      \"T.loc[(T['obj_type'] == 2) & (T['phase'] == 2) & (T['maneuverable'] == 1), 'species_class'] = 'Su'\",\n",
    "      \"T.loc[(T['obj_type'] == 2) & (T['mass'] <= 20) & (T['phase'] == 2), 'species_class'] = 'Sns'\",\n",
    "      \"T.loc[(T['obj_type'] == 2) & (T['phase'] == 2) & (T['maneuverable'] == 1) & T['const_name'].notna(), 'species_class'] = 'S'\",\n",
    "      \"T.loc[(T['obj_type'] >= 3) & (T['diam_char'] >= 0.05) & (T['diam_char']/2 < 10), 'species_class'] = 'N'\",\n",
    "      \"T.loc[(T['obj_type'] == 1), 'species_class'] = 'B'\"\n",
    "]\n",
    "assigned_df = assign_species_to_population(T, species_configuration)"
   ]
  },
  {
   "cell_type": "code",
   "execution_count": null,
   "id": "0c1f9230",
   "metadata": {},
   "outputs": [],
   "source": []
  }
 ],
 "metadata": {
  "kernelspec": {
   "display_name": "opus-env",
   "language": "python",
   "name": "python3"
  },
  "language_info": {
   "codemirror_mode": {
    "name": "ipython",
    "version": 3
   },
   "file_extension": ".py",
   "mimetype": "text/x-python",
   "name": "python",
   "nbconvert_exporter": "python",
   "pygments_lexer": "ipython3",
   "version": "3.10.18"
  }
 },
 "nbformat": 4,
 "nbformat_minor": 5
}
