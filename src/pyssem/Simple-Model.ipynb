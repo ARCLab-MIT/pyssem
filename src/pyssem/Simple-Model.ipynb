{
 "cells": [
  {
   "cell_type": "markdown",
   "metadata": {},
   "source": [
    "# Simple Model\n",
    "The aim of this workbook it to take an extremely simplified version of the model (just debris) and then build the equations and solve for them to ensure that the model is working correctly before implementing."
   ]
  },
  {
   "cell_type": "code",
   "execution_count": 760,
   "metadata": {},
   "outputs": [],
   "source": [
    "import pickle\n",
    "import sympy as sp\n",
    "import pandas as pd\n",
    "import scipy as sc\n",
    "import numpy as np\n",
    "import matplotlib.pyplot as plt\n",
    "from scipy.integrate import solve_ivp"
   ]
  },
  {
   "cell_type": "code",
   "execution_count": 777,
   "metadata": {},
   "outputs": [],
   "source": [
    "with open(r'D:\\ucl\\pyssem\\scenario_properties_short.pkl', 'rb') as f:\n",
    "    scenario_properties = pickle.load(f)"
   ]
  },
  {
   "cell_type": "code",
   "execution_count": 778,
   "metadata": {},
   "outputs": [
    {
     "data": {
      "text/plain": [
       "(40, 8)"
      ]
     },
     "execution_count": 778,
     "metadata": {},
     "output_type": "execute_result"
    }
   ],
   "source": [
    "scenario_properties.equations.shape"
   ]
  },
  {
   "cell_type": "markdown",
   "metadata": {},
   "source": []
  },
  {
   "cell_type": "code",
   "execution_count": 769,
   "metadata": {},
   "outputs": [
    {
     "name": "stdout",
     "output_type": "stream",
     "text": [
      "[]\n",
      "         Su_260kg  Su_473kg  sns  N_0.00141372kg  N_0.567kg  N_6kg  N_260kg  \\\n",
      "alt_bin                                                                       \n",
      "0             2.0         0    0             0.0          0      0        0   \n",
      "1             2.0         0    0             0.0          0      0        0   \n",
      "2            11.0         0    0             0.0          0      0        0   \n",
      "3            14.0         0    0             0.0          0      0        0   \n",
      "4            30.0         0    0             0.0          0      0        0   \n",
      "5            43.0         0    0             0.0          0      0        0   \n",
      "6            44.0         0    0             0.0          0      0        0   \n",
      "7           117.0         0    0             0.0          0      0        0   \n",
      "8           161.0         0    0             0.0          0      0        0   \n",
      "9           212.0         0    0             1.0          0      0        0   \n",
      "10          265.0         0    0             0.0          0      0        0   \n",
      "11         1705.0         0    0             0.0          0      0        0   \n",
      "12          186.0         0    0             0.0          0      0        0   \n",
      "13           31.0         0    0             0.0          0      0        0   \n",
      "14           20.0         0    0             0.0          0      0        0   \n",
      "15            6.0         0    0             0.0          0      0        0   \n",
      "16           21.0         0    0             2.0          0      0        0   \n",
      "17            2.0         0    0             0.0          0      0        0   \n",
      "18            3.0         0    0             1.0          0      0        0   \n",
      "19            6.0         0    0             3.0          0      0        0   \n",
      "20            1.0         0    0             0.0          0      0        0   \n",
      "21            0.0         0    0             1.0          0      0        0   \n",
      "22           11.0         0    0             1.0          0      0        0   \n",
      "23            7.0         0    0             1.0          0      0        0   \n",
      "24           16.0         0    0             0.0          0      0        0   \n",
      "25            4.0         0    0             1.0          0      0        0   \n",
      "26            0.0         0    0             1.0          0      0        0   \n",
      "27            1.0         0    0             0.0          0      0        0   \n",
      "28            2.0         0    0             0.0          0      0        0   \n",
      "29            5.0         0    0             0.0          0      0        0   \n",
      "30            0.0         0    0             0.0          0      0        0   \n",
      "31            8.0         0    0             0.0          0      0        0   \n",
      "32           44.0         0    0             0.0          0      0        0   \n",
      "33          286.0         0    0             0.0          0      0        0   \n",
      "34           28.0         0    0             0.0          0      0        0   \n",
      "35            0.0         0    0             0.0          0      0        0   \n",
      "36            0.0         0    0             0.0          0      0        0   \n",
      "37            0.0         0    0             0.0          0      0        0   \n",
      "38            0.0         0    0             0.0          0      0        0   \n",
      "39            0.0         0    0             0.0          0      0        0   \n",
      "\n",
      "         N_473kg  \n",
      "alt_bin           \n",
      "0              0  \n",
      "1              0  \n",
      "2              0  \n",
      "3              0  \n",
      "4              0  \n",
      "5              0  \n",
      "6              0  \n",
      "7              0  \n",
      "8              0  \n",
      "9              0  \n",
      "10             0  \n",
      "11             0  \n",
      "12             0  \n",
      "13             0  \n",
      "14             0  \n",
      "15             0  \n",
      "16             0  \n",
      "17             0  \n",
      "18             0  \n",
      "19             0  \n",
      "20             0  \n",
      "21             0  \n",
      "22             0  \n",
      "23             0  \n",
      "24             0  \n",
      "25             0  \n",
      "26             0  \n",
      "27             0  \n",
      "28             0  \n",
      "29             0  \n",
      "30             0  \n",
      "31             0  \n",
      "32             0  \n",
      "33             0  \n",
      "34             0  \n",
      "35             0  \n",
      "36             0  \n",
      "37             0  \n",
      "38             0  \n",
      "39             0  \n",
      "[<scipy.interpolate._interpolate.interp1d object at 0x0000024490E6FA90>, <scipy.interpolate._interpolate.interp1d object at 0x000002448EB78E00>, <scipy.interpolate._interpolate.interp1d object at 0x000002448EB78C70>, <scipy.interpolate._interpolate.interp1d object at 0x000002448EB78E50>, <scipy.interpolate._interpolate.interp1d object at 0x000002448EB78040>, <scipy.interpolate._interpolate.interp1d object at 0x000002448EB78BD0>, <scipy.interpolate._interpolate.interp1d object at 0x000002448EB78DB0>, <scipy.interpolate._interpolate.interp1d object at 0x000002448EB785E0>, <scipy.interpolate._interpolate.interp1d object at 0x000002448EB78950>, <scipy.interpolate._interpolate.interp1d object at 0x000002448EB78EA0>, <scipy.interpolate._interpolate.interp1d object at 0x000002448EB789F0>, <scipy.interpolate._interpolate.interp1d object at 0x000002448EB78CC0>, <scipy.interpolate._interpolate.interp1d object at 0x000002448EB788B0>, <scipy.interpolate._interpolate.interp1d object at 0x000002448EB78AE0>, <scipy.interpolate._interpolate.interp1d object at 0x000002448EB78540>, <scipy.interpolate._interpolate.interp1d object at 0x000002448EB787C0>, <scipy.interpolate._interpolate.interp1d object at 0x000002448EB786D0>, <scipy.interpolate._interpolate.interp1d object at 0x000002448EB789A0>, <scipy.interpolate._interpolate.interp1d object at 0x000002448EB78B30>, <scipy.interpolate._interpolate.interp1d object at 0x000002448EB78A40>, <scipy.interpolate._interpolate.interp1d object at 0x0000024486C1DE50>, <scipy.interpolate._interpolate.interp1d object at 0x0000024486C1D9F0>, <scipy.interpolate._interpolate.interp1d object at 0x0000024486C1D540>, <scipy.interpolate._interpolate.interp1d object at 0x0000024486C1D360>, <scipy.interpolate._interpolate.interp1d object at 0x0000024486C1D810>, <scipy.interpolate._interpolate.interp1d object at 0x0000024486C1DB30>, <scipy.interpolate._interpolate.interp1d object at 0x0000024486C1D860>, <scipy.interpolate._interpolate.interp1d object at 0x0000024486C1D220>, <scipy.interpolate._interpolate.interp1d object at 0x0000024486C1DB80>, <scipy.interpolate._interpolate.interp1d object at 0x0000024486C1D180>, <scipy.interpolate._interpolate.interp1d object at 0x0000024486C1D3B0>, <scipy.interpolate._interpolate.interp1d object at 0x0000024486C1DC20>, <scipy.interpolate._interpolate.interp1d object at 0x0000024486C1DF40>, <scipy.interpolate._interpolate.interp1d object at 0x0000024486C1DC70>, <scipy.interpolate._interpolate.interp1d object at 0x0000024486C1DD10>, <scipy.interpolate._interpolate.interp1d object at 0x0000024486C1DDB0>, <scipy.interpolate._interpolate.interp1d object at 0x0000024486C1DEF0>, <scipy.interpolate._interpolate.interp1d object at 0x0000024486C1D310>, <scipy.interpolate._interpolate.interp1d object at 0x0000024486C1D400>, <scipy.interpolate._interpolate.interp1d object at 0x0000024486C1D630>]\n",
      "Matrix([[-0.125*Su_473kg_1], [-0.125*Su_473kg_2], [-0.125*Su_473kg_3], [-0.125*Su_473kg_4], [-0.125*Su_473kg_5], [-0.125*Su_473kg_6], [-0.125*Su_473kg_7], [-0.125*Su_473kg_8], [-0.125*Su_473kg_9], [-0.125*Su_473kg_10], [-0.125*Su_473kg_11], [-0.125*Su_473kg_12], [-0.125*Su_473kg_13], [-0.125*Su_473kg_14], [-0.125*Su_473kg_15], [-0.125*Su_473kg_16], [-0.125*Su_473kg_17], [-0.125*Su_473kg_18], [-0.125*Su_473kg_19], [-0.125*Su_473kg_20], [-0.125*Su_473kg_21], [-0.125*Su_473kg_22], [-0.125*Su_473kg_23], [-0.125*Su_473kg_24], [-0.125*Su_473kg_25], [-0.125*Su_473kg_26], [-0.125*Su_473kg_27], [-0.125*Su_473kg_28], [-0.125*Su_473kg_29], [-0.125*Su_473kg_30], [-0.125*Su_473kg_31], [-0.125*Su_473kg_32], [-0.125*Su_473kg_33], [-0.125*Su_473kg_34], [-0.125*Su_473kg_35], [-0.125*Su_473kg_36], [-0.125*Su_473kg_37], [-0.125*Su_473kg_38], [-0.125*Su_473kg_39], [-0.125*Su_473kg_40]])\n",
      "Matrix([[-8.39298307814122e-8*pi*N_0_00141372kg_1*Su_473kg_1 - 9.40343514877152e-8*pi*N_0_567kg_1*Su_473kg_1 - 1.51592799913287e-7*pi*N_260kg_1*Su_473kg_1 - 3.32510832660952e-7*pi*N_473kg_1*Su_473kg_1 - 9.17883420670727e-8*pi*N_6kg_1*Su_473kg_1 - 1.51592799913287e-17*pi*Su_260kg_1*Su_473kg_1 - 6.65021665321903e-17*pi*Su_473kg_1**2 - 9.17883420670727e-13*pi*Su_473kg_1*sns_1 - 0.125*Su_473kg_1], [-8.31712209921707e-8*pi*N_0_00141372kg_2*Su_473kg_2 - 9.31844107824927e-8*pi*N_0_567kg_2*Su_473kg_2 - 1.50222610304633e-7*pi*N_260kg_2*Su_473kg_2 - 3.29505393827858e-7*pi*N_473kg_2*Su_473kg_2 - 9.09587021859715e-8*pi*N_6kg_2*Su_473kg_2 - 1.50222610304633e-17*pi*Su_260kg_2*Su_473kg_2 - 6.59010787655715e-17*pi*Su_473kg_2**2 - 9.09587021859715e-13*pi*Su_473kg_2*sns_2 - 0.125*Su_473kg_2], [-8.24228500847574e-8*pi*N_0_00141372kg_3*Su_473kg_3 - 9.23459416435025e-8*pi*N_0_567kg_3*Su_473kg_3 - 1.48870914010572e-7*pi*N_260kg_3*Su_473kg_3 - 3.26540519107553e-7*pi*N_473kg_3*Su_473kg_3 - 9.01402598728731e-8*pi*N_6kg_3*Su_473kg_3 - 1.48870914010572e-17*pi*Su_260kg_3*Su_473kg_3 - 6.53081038215107e-17*pi*Su_473kg_3**2 - 9.01402598728731e-13*pi*Su_473kg_3*sns_3 - 0.125*Su_473kg_3], [-8.16845346272598e-8*pi*N_0_00141372kg_4*Su_473kg_4 - 9.15187385550088e-8*pi*N_0_567kg_4*Su_473kg_4 - 1.47537379719138e-7*pi*N_260kg_4*Su_473kg_4 - 3.23615481784669e-7*pi*N_473kg_4*Su_473kg_4 - 8.93328145207826e-8*pi*N_6kg_4*Su_473kg_4 - 1.47537379719138e-17*pi*Su_260kg_4*Su_473kg_4 - 6.47230963569339e-17*pi*Su_473kg_4**2 - 8.93328145207826e-13*pi*Su_473kg_4*sns_4 - 0.125*Su_473kg_4], [-8.09560952772207e-8*pi*N_0_00141372kg_5*Su_473kg_5 - 9.07026005830706e-8*pi*N_0_567kg_5*Su_473kg_5 - 1.46221683504677e-7*pi*N_260kg_5*Su_473kg_5 - 3.20729571345325e-7*pi*N_473kg_5*Su_473kg_5 - 8.85361699950639e-8*pi*N_6kg_5*Su_473kg_5 - 1.46221683504677e-17*pi*Su_260kg_5*Su_473kg_5 - 6.4145914269065e-17*pi*Su_473kg_5**2 - 8.85361699950639e-13*pi*Su_473kg_5*sns_5 - 0.125*Su_473kg_5], [-8.02373566727221e-8*pi*N_0_00141372kg_6*Su_473kg_6 - 8.98973312535132e-8*pi*N_0_567kg_6*Su_473kg_6 - 1.44923508631127e-7*pi*N_260kg_6*Su_473kg_6 - 3.17882093045627e-7*pi*N_473kg_6*Su_473kg_6 - 8.77501345143259e-8*pi*N_6kg_6*Su_473kg_6 - 1.44923508631127e-17*pi*Su_260kg_6*Su_473kg_6 - 6.35764186091253e-17*pi*Su_473kg_6**2 - 8.77501345143259e-13*pi*Su_473kg_6*sns_6 - 0.125*Su_473kg_6], [-7.95281473268332e-8*pi*N_0_00141372kg_7*Su_473kg_7 - 8.91027384336685e-8*pi*N_0_567kg_7*Su_473kg_7 - 1.43642545361369e-7*pi*N_260kg_7*Su_473kg_7 - 3.15072367493497e-7*pi*N_473kg_7*Su_473kg_7 - 8.69745205349869e-8*pi*N_6kg_7*Su_473kg_7 - 1.43642545361369e-17*pi*Su_260kg_7*Su_473kg_7 - 6.30144734986994e-17*pi*Su_473kg_7**2 - 8.69745205349869e-13*pi*Su_473kg_7*sns_7 - 0.125*Su_473kg_7], [-7.88282995253074e-8*pi*N_0_00141372kg_8*Su_473kg_8 - 8.83186342177554e-8*pi*N_0_567kg_8*Su_473kg_8 - 1.4237849077245e-7*pi*N_260kg_8*Su_473kg_8 - 3.12299730243372e-7*pi*N_473kg_8*Su_473kg_8 - 8.62091446393934e-8*pi*N_6kg_8*Su_473kg_8 - 1.4237849077245e-17*pi*Su_260kg_8*Su_473kg_8 - 6.24599460486743e-17*pi*Su_473kg_8**2 - 8.62091446393934e-13*pi*Su_473kg_8*sns_8 - 0.125*Su_473kg_8], [-7.81376492274276e-8*pi*N_0_00141372kg_9*Su_473kg_9 - 8.75448348157875e-8*pi*N_0_567kg_9*Su_473kg_9 - 1.4113104857649e-7*pi*N_260kg_9*Su_473kg_9 - 3.09563531403371e-7*pi*N_473kg_9*Su_473kg_9 - 8.54538274273806e-8*pi*N_6kg_9*Su_473kg_9 - 1.4113104857649e-17*pi*Su_260kg_9*Su_473kg_9 - 6.19127062806742e-17*pi*Su_473kg_9**2 - 8.54538274273806e-13*pi*Su_473kg_9*sns_9 - 0.125*Su_473kg_9], [-7.74560359698721e-8*pi*N_0_00141372kg_10*Su_473kg_10 - 8.67811604458654e-8*pi*N_0_567kg_10*Su_473kg_10 - 1.39899928947046e-7*pi*N_260kg_10*Su_473kg_10 - 3.0686313525444e-7*pi*N_473kg_10*Su_473kg_10 - 8.4708393411138e-8*pi*N_6kg_10*Su_473kg_10 - 1.39899928947046e-17*pi*Su_260kg_10*Su_473kg_10 - 6.13726270508881e-17*pi*Su_473kg_10**2 - 8.4708393411138e-13*pi*Su_473kg_10*sns_10 - 0.125*Su_473kg_10], [-7.67833027734911e-8*pi*N_0_00141372kg_11*Su_473kg_11 - 8.60274352297297e-8*pi*N_0_567kg_11*Su_473kg_11 - 1.38684848350737e-7*pi*N_260kg_11*Su_473kg_11 - 3.04197919881018e-7*pi*N_473kg_11*Su_473kg_11 - 8.39726709132562e-8*pi*N_6kg_11*Su_473kg_11 - 1.38684848350737e-17*pi*Su_260kg_11*Su_473kg_11 - 6.08395839762037e-17*pi*Su_473kg_11**2 - 8.39726709132562e-13*pi*Su_473kg_11*sns_11 - 0.125*Su_473kg_11], [-7.61192960529326e-8*pi*N_0_00141372kg_12*Su_473kg_12 - 8.52834870915068e-8*pi*N_0_567kg_12*Su_473kg_12 - 1.37485529384006e-7*pi*N_260kg_12*Su_473kg_12 - 3.01567276812997e-7*pi*N_473kg_12*Su_473kg_12 - 8.32464919678918e-8*pi*N_6kg_12*Su_473kg_12 - 1.37485529384006e-17*pi*Su_260kg_12*Su_473kg_12 - 6.03134553625993e-17*pi*Su_473kg_12**2 - 8.32464919678918e-13*pi*Su_473kg_12*sns_12 - 0.125*Su_473kg_12], [-7.54638655289618e-8*pi*N_0_00141372kg_13*Su_473kg_13 - 8.45491476594714e-8*pi*N_0_567kg_13*Su_473kg_13 - 1.36301700614755e-7*pi*N_260kg_13*Su_473kg_13 - 2.98970610678347e-7*pi*N_473kg_13*Su_473kg_13 - 8.25296922248765e-8*pi*N_6kg_13*Su_473kg_13 - 1.36301700614755e-17*pi*Su_260kg_13*Su_473kg_13 - 5.97941221356694e-17*pi*Su_473kg_13**2 - 8.25296922248765e-13*pi*Su_473kg_13*sns_13 - 0.125*Su_473kg_13], [-7.48168641434338e-8*pi*N_0_00141372kg_14*Su_473kg_14 - 8.38242521707836e-8*pi*N_0_567kg_14*Su_473kg_14 - 1.35133096428773e-7*pi*N_260kg_14*Su_473kg_14 - 2.96407338866266e-7*pi*N_473kg_14*Su_473kg_14 - 8.18221108567288e-8*pi*N_6kg_14*Su_473kg_14 - 1.35133096428773e-17*pi*Su_260kg_14*Su_473kg_14 - 5.92814677732533e-17*pi*Su_473kg_14**2 - 8.18221108567288e-13*pi*Su_473kg_14*sns_14 - 0.125*Su_473kg_14], [-7.41781479767957e-8*pi*N_0_00141372kg_15*Su_473kg_15 - 8.31086393790581e-8*pi*N_0_567kg_15*Su_473kg_15 - 1.33979456880723e-7*pi*N_260kg_15*Su_473kg_15 - 2.93876891200335e-7*pi*N_473kg_15*Su_473kg_15 - 8.11235904684317e-8*pi*N_6kg_15*Su_473kg_15 - 1.33979456880723e-17*pi*Su_260kg_15*Su_473kg_15 - 5.8775378240067e-17*pi*Su_473kg_15**2 - 8.11235904684317e-13*pi*Su_473kg_15*sns_15 - 0.125*Su_473kg_15], [-7.3547576168042e-8*pi*N_0_00141372kg_16*Su_473kg_16 - 8.24021514646832e-8*pi*N_0_567kg_16*Su_473kg_16 - 1.32840527549573e-7*pi*N_260kg_16*Su_473kg_16 - 2.913787096214e-7*pi*N_473kg_16*Su_473kg_16 - 8.04339770098929e-8*pi*N_6kg_16*Su_473kg_16 - 1.32840527549573e-17*pi*Su_260kg_16*Su_473kg_16 - 5.82757419242801e-17*pi*Su_473kg_16**2 - 8.04339770098929e-13*pi*Su_473kg_16*sns_16 - 0.125*Su_473kg_16], [-7.29250108370521e-8*pi*N_0_00141372kg_17*Su_473kg_17 - 8.17046339478085e-8*pi*N_0_567kg_17*Su_473kg_17 - 1.31716059398321e-7*pi*N_260kg_17*Su_473kg_17 - 2.88912247879896e-7*pi*N_473kg_17*Su_473kg_17 - 7.97531196910115e-8*pi*N_6kg_17*Su_473kg_17 - 1.31716059398321e-17*pi*Su_260kg_17*Su_473kg_17 - 5.77824495759792e-17*pi*Su_473kg_17**2 - 7.97531196910115e-13*pi*Su_473kg_17*sns_17 - 0.125*Su_473kg_17], [-7.23103170092078e-8*pi*N_0_00141372kg_18*Su_473kg_18 - 8.10159356038862e-8*pi*N_0_567kg_18*Su_473kg_18 - 1.30605808637837e-7*pi*N_260kg_18*Su_473kg_18 - 2.86476971237192e-7*pi*N_473kg_18*Su_473kg_18 - 7.90808708992365e-8*pi*N_6kg_18*Su_473kg_18 - 1.30605808637837e-17*pi*Su_260kg_18*Su_473kg_18 - 5.72953942474385e-17*pi*Su_473kg_18**2 - 7.90808708992365e-13*pi*Su_473kg_18*sns_18 - 0.125*Su_473kg_18], [-7.17033625422298e-8*pi*N_0_00141372kg_19*Su_473kg_19 - 8.03359083816999e-8*pi*N_0_567kg_19*Su_473kg_19 - 1.29509536594722e-7*pi*N_260kg_19*Su_473kg_19 - 2.8407235617574e-7*pi*N_473kg_19*Su_473kg_19 - 7.8417086119553e-8*pi*N_6kg_19*Su_473kg_19 - 1.29509536594722e-17*pi*Su_260kg_19*Su_473kg_19 - 5.6814471235148e-17*pi*Su_473kg_19**2 - 7.8417086119553e-13*pi*Su_473kg_19*sns_19 - 0.125*Su_473kg_19], [-7.11040180551586e-8*pi*N_0_00141372kg_20*Su_473kg_20 - 7.96644073237953e-8*pi*N_0_567kg_20*Su_473kg_20 - 1.28427009583029e-7*pi*N_260kg_20*Su_473kg_20 - 2.81697890117708e-7*pi*N_473kg_20*Su_473kg_20 - 7.77616238568138e-8*pi*N_6kg_20*Su_473kg_20 - 1.28427009583029e-17*pi*Su_260kg_20*Su_473kg_20 - 5.63395780235417e-17*pi*Su_473kg_20**2 - 7.77616238568138e-13*pi*Su_473kg_20*sns_20 - 0.125*Su_473kg_20], [-7.05121568593932e-8*pi*N_0_00141372kg_21*Su_473kg_21 - 7.90012904892159e-8*pi*N_0_567kg_21*Su_473kg_21 - 1.27357998779709e-7*pi*N_260kg_21*Su_473kg_21 - 2.79353071151777e-7*pi*N_473kg_21*Su_473kg_21 - 7.71143455603207e-8*pi*N_6kg_21*Su_473kg_21 - 1.27357998779709e-17*pi*Su_260kg_21*Su_473kg_21 - 5.58706142303554e-17*pi*Su_473kg_21**2 - 7.71143455603207e-13*pi*Su_473kg_21*sns_21 - 0.125*Su_473kg_21], [-6.99276548917456e-8*pi*N_0_00141372kg_22*Su_473kg_22 - 7.8346418878499e-8*pi*N_0_567kg_22*Su_473kg_22 - 1.26302280103697e-7*pi*N_260kg_22*Su_473kg_22 - 2.77037407767913e-7*pi*N_473kg_22*Su_473kg_22 - 7.64751155506113e-8*pi*N_6kg_22*Su_473kg_22 - 1.26302280103697e-17*pi*Su_260kg_22*Su_473kg_22 - 5.54074815535825e-17*pi*Su_473kg_22**2 - 7.64751155506113e-13*pi*Su_473kg_22*sns_22 - 0.125*Su_473kg_22], [-6.93503906494144e-8*pi*N_0_00141372kg_23*Su_473kg_23 - 7.76996563608186e-8*pi*N_0_567kg_23*Su_473kg_23 - 1.25259634098455e-7*pi*N_260kg_23*Su_473kg_23 - 2.74750418599748e-7*pi*N_473kg_23*Su_473kg_23 - 7.58438009483432e-8*pi*N_6kg_23*Su_473kg_23 - 1.25259634098455e-17*pi*Su_260kg_23*Su_473kg_23 - 5.49500837199496e-17*pi*Su_473kg_23**2 - 7.58438009483432e-13*pi*Su_473kg_23*sns_23 - 0.125*Su_473kg_23], [-6.87802451268425e-8*pi*N_0_00141372kg_24*Su_473kg_24 - 7.70608696032437e-8*pi*N_0_567kg_24*Su_473kg_24 - 1.24229845817936e-7*pi*N_260kg_24*Su_473kg_24 - 2.7249163217443e-7*pi*N_473kg_24*Su_473kg_24 - 7.52202716052408e-8*pi*N_6kg_24*Su_473kg_24 - 1.24229845817936e-17*pi*Su_260kg_24*Su_473kg_24 - 5.4498326434886e-17*pi*Su_473kg_24**2 - 7.52202716052408e-13*pi*Su_473kg_24*sns_24 - 0.125*Su_473kg_24], [-6.82171017543755e-8*pi*N_0_00141372kg_25*Su_473kg_25 - 7.64299280020095e-8*pi*N_0_567kg_25*Su_473kg_25 - 1.23212704715778e-7*pi*N_260kg_25*Su_473kg_25 - 2.70260586669594e-7*pi*N_473kg_25*Su_473kg_25 - 7.46044000370086e-8*pi*N_6kg_25*Su_473kg_25 - 1.23212704715778e-17*pi*Su_260kg_25*Su_473kg_25 - 5.40521173339189e-17*pi*Su_473kg_25**2 - 7.46044000370086e-13*pi*Su_473kg_25*sns_25 - 0.125*Su_473kg_25], [-6.76608463386741e-8*pi*N_0_00141372kg_26*Su_473kg_26 - 7.58067036157571e-8*pi*N_0_567kg_26*Su_473kg_26 - 1.22208004537689e-7*pi*N_260kg_26*Su_473kg_26 - 2.68056829677295e-7*pi*N_473kg_26*Su_473kg_26 - 7.39960613581658e-8*pi*N_6kg_26*Su_473kg_26 - 1.22208004537689e-17*pi*Su_260kg_26*Su_473kg_26 - 5.3611365935459e-17*pi*Su_473kg_26**2 - 7.39960613581658e-13*pi*Su_473kg_26*sns_26 - 0.125*Su_473kg_26], [-6.711136700482e-8*pi*N_0_00141372kg_27*Su_473kg_27 - 7.51910711006691e-8*pi*N_0_567kg_27*Su_473kg_27 - 1.2121554321687e-7*pi*N_260kg_27*Su_473kg_27 - 2.65879917974641e-7*pi*N_473kg_27*Su_473kg_27 - 7.33951332187306e-8*pi*N_6kg_27*Su_473kg_27 - 1.2121554321687e-17*pi*Su_260kg_27*Su_473kg_27 - 5.31759835949282e-17*pi*Su_473kg_27**2 - 7.33951332187306e-13*pi*Su_473kg_27*sns_27 - 0.125*Su_473kg_27], [-6.65685541400595e-8*pi*N_0_00141372kg_28*Su_473kg_28 - 7.45829076474402e-8*pi*N_0_567kg_28*Su_473kg_28 - 1.20235122772412e-7*pi*N_260kg_28*Su_473kg_28 - 2.63729417300922e-7*pi*N_473kg_28*Su_473kg_28 - 7.28014957426966e-8*pi*N_6kg_28*Su_473kg_28 - 1.20235122772412e-17*pi*Su_260kg_28*Su_473kg_28 - 5.27458834601844e-17*pi*Su_473kg_28**2 - 7.28014957426966e-13*pi*Su_473kg_28*sns_28 - 0.125*Su_473kg_28], [-6.6032300339137e-8*pi*N_0_00141372kg_29*Su_473kg_29 - 7.39820929200294e-8*pi*N_0_567kg_29*Su_473kg_29 - 1.19266549210555e-7*pi*N_260kg_29*Su_473kg_29 - 2.61604902141029e-7*pi*N_473kg_29*Su_473kg_29 - 7.22150314682477e-8*pi*N_6kg_29*Su_473kg_29 - 1.19266549210555e-17*pi*Su_260kg_29*Su_473kg_29 - 5.23209804282058e-17*pi*Su_473kg_29**2 - 7.22150314682477e-13*pi*Su_473kg_29*sns_29 - 0.125*Su_473kg_29], [-6.55025003511589e-8*pi*N_0_00141372kg_30*Su_473kg_30 - 7.33885089961267e-8*pi*N_0_567kg_30*Su_473kg_30 - 1.18309632428716e-7*pi*N_260kg_30*Su_473kg_30 - 2.59505955514946e-7*pi*N_473kg_30*Su_473kg_30 - 7.16356252896469e-8*pi*N_6kg_30*Su_473kg_30 - 1.18309632428716e-17*pi*Su_260kg_30*Su_473kg_30 - 5.19011911029892e-17*pi*Su_473kg_30**2 - 7.16356252896469e-13*pi*Su_473kg_30*sns_30 - 0.125*Su_473kg_30], [-6.49790510279438e-8*pi*N_0_00141372kg_31*Su_473kg_31 - 7.28020403092851e-8*pi*N_0_567kg_31*Su_473kg_31 - 1.17364186122199e-7*pi*N_260kg_31*Su_473kg_31 - 2.57432168773122e-7*pi*N_473kg_31*Su_473kg_31 - 7.10631644007506e-8*pi*N_6kg_31*Su_473kg_31 - 1.17364186122199e-17*pi*Su_260kg_31*Su_473kg_31 - 5.14864337546243e-17*pi*Su_473kg_31**2 - 7.10631644007506e-13*pi*Su_473kg_31*sns_31 - 0.125*Su_473kg_31], [-6.44618512738145e-8*pi*N_0_00141372kg_32*Su_473kg_32 - 7.22225735926678e-8*pi*N_0_567kg_32*Su_473kg_32 - 1.1643002769351e-7*pi*N_260kg_32*Su_473kg_32 - 2.55383141397558e-7*pi*N_473kg_32*Su_473kg_32 - 7.0497538240099e-8*pi*N_6kg_32*Su_473kg_32 - 1.1643002769351e-17*pi*Su_260kg_32*Su_473kg_32 - 5.10766282795115e-17*pi*Su_473kg_32**2 - 7.0497538240099e-13*pi*Su_473kg_32*sns_32 - 0.125*Su_473kg_32], [-6.39508019967869e-8*pi*N_0_00141372kg_33*Su_473kg_33 - 7.16499978243605e-8*pi*N_0_567kg_33*Su_473kg_33 - 1.15506978164195e-7*pi*N_260kg_33*Su_473kg_33 - 2.5335848080843e-7*pi*N_473kg_33*Su_473kg_33 - 6.99386384375352e-8*pi*N_6kg_33*Su_473kg_33 - 1.15506978164195e-17*pi*Su_260kg_33*Su_473kg_33 - 5.06716961616861e-17*pi*Su_473kg_33**2 - 6.99386384375352e-13*pi*Su_473kg_33*sns_33 - 0.125*Su_473kg_33], [-6.34458060610953e-8*pi*N_0_00141372kg_34*Su_473kg_34 - 7.10842041741819e-8*pi*N_0_567kg_34*Su_473kg_34 - 1.14594862089093e-7*pi*N_260kg_34*Su_473kg_34 - 2.51357802176008e-7*pi*N_473kg_34*Su_473kg_34 - 6.93863587622852e-8*pi*N_6kg_34*Su_473kg_34 - 1.14594862089093e-17*pi*Su_260kg_34*Su_473kg_34 - 5.02715604352016e-17*pi*Su_473kg_34**2 - 6.93863587622853e-13*pi*Su_473kg_34*sns_34 - 0.125*Su_473kg_34], [-6.29467682410369e-8*pi*N_0_00141372kg_35*Su_473kg_35 - 7.05250859519702e-8*pi*N_0_567kg_35*Su_473kg_35 - 1.13693507472969e-7*pi*N_260kg_35*Su_473kg_35 - 2.4938072823779e-7*pi*N_473kg_35*Su_473kg_35 - 6.88405950724808e-8*pi*N_6kg_35*Su_473kg_35 - 1.13693507472969e-17*pi*Su_260kg_35*Su_473kg_35 - 4.98761456475581e-17*pi*Su_473kg_35**2 - 6.88405950724808e-13*pi*Su_473kg_35*sns_35 - 0.125*Su_473kg_35], [-6.24535951760756e-8*pi*N_0_00141372kg_36*Su_473kg_36 - 6.99725385572826e-8*pi*N_0_567kg_36*Su_473kg_36 - 1.12802745689427e-7*pi*N_260kg_36*Su_473kg_36 - 2.47426889120644e-7*pi*N_473kg_36*Su_473kg_36 - 6.83012452660595e-8*pi*N_6kg_36*Su_473kg_36 - 1.12802745689427e-17*pi*Su_260kg_36*Su_473kg_36 - 4.94853778241288e-17*pi*Su_473kg_36**2 - 6.83012452660595e-13*pi*Su_473kg_36*sns_36 - 0.125*Su_473kg_36], [-6.19661953271773e-8*pi*N_0_00141372kg_37*Su_473kg_37 - 6.94264594304733e-8*pi*N_0_567kg_37*Su_473kg_37 - 1.11922411402036e-7*pi*N_260kg_37*Su_473kg_37 - 2.45495922167808e-7*pi*N_473kg_37*Su_473kg_37 - 6.77682092330115e-8*pi*N_6kg_37*Su_473kg_37 - 1.11922411402036e-17*pi*Su_260kg_37*Su_473kg_37 - 4.90991844335616e-17*pi*Su_473kg_37**2 - 6.77682092330115e-13*pi*Su_473kg_37*sns_37 - 0.125*Su_473kg_37], [-6.1484478934324e-8*pi*N_0_00141372kg_38*Su_473kg_38 - 6.88867480050931e-8*pi*N_0_567kg_38*Su_473kg_38 - 1.110523424876e-7*pi*N_260kg_38*Su_473kg_38 - 2.4358747177058e-7*pi*N_473kg_38*Su_473kg_38 - 6.72413888089159e-8*pi*N_6kg_38*Su_473kg_38 - 1.110523424876e-17*pi*Su_260kg_38*Su_473kg_38 - 4.8717494354116e-17*pi*Su_473kg_38**2 - 6.72413888089159e-13*pi*Su_473kg_38*sns_38 - 0.125*Su_473kg_38], [-6.10083579751913e-8*pi*N_0_00141372kg_39*Su_473kg_39 - 6.83533056615911e-8*pi*N_0_567kg_39*Su_473kg_39 - 1.10192379961519e-7*pi*N_260kg_39*Su_473kg_39 - 2.41701189204601e-7*pi*N_473kg_39*Su_473kg_39 - 6.67206877297489e-8*pi*N_6kg_39*Su_473kg_39 - 1.10192379961519e-17*pi*Su_260kg_39*Su_473kg_39 - 4.83402378409202e-17*pi*Su_473kg_39**2 - 6.67206877297489e-13*pi*Su_473kg_39*sns_39 - 0.125*Su_473kg_39], [-6.05377461249324e-8*pi*N_0_00141372kg_40*Su_473kg_40 - 6.78260356822583e-8*pi*N_0_567kg_40*Su_473kg_40 - 1.09342367905151e-7*pi*N_260kg_40*Su_473kg_40 - 2.39836732470532e-7*pi*N_473kg_40*Su_473kg_40 - 6.62060115879028e-8*pi*N_6kg_40*Su_473kg_40 - 1.09342367905151e-17*pi*Su_260kg_40*Su_473kg_40 - 4.79673464941064e-17*pi*Su_473kg_40**2 - 6.62060115879028e-13*pi*Su_473kg_40*sns_40 - 0.125*Su_473kg_40]])\n",
      "Matrix([[0], [0], [0], [0], [0], [0], [0], [0], [0], [0], [0], [0], [0], [0], [0], [0], [0], [0], [0], [0], [0], [0], [0], [0], [0], [0], [0], [0], [0], [0], [0], [0], [0], [0], [0], [0], [0], [0], [0], [0]])\n"
     ]
    }
   ],
   "source": [
    "# This is from 0, to length of the time period, with the time step being the time step defined by the user\n",
    "time = scenario_properties.scen_times\n",
    "\n",
    "# INITIAL POPULATION\n",
    "# xo is the initial population, this shows for each orbital shell, the initial population\n",
    "x0 = scenario_properties.x0\n",
    "\n",
    "# LAUNCH RATE\n",
    "# full lambda is the lambda value for the full time period\n",
    "full_lambda = scenario_properties.full_lambda\n",
    "\n",
    "# DRAG COEFFICIENT\n",
    "# full_drag = scenario_properties.full_drag[:, 5]\n",
    "# full_drag_lambda = []\n",
    "\n",
    "# # Swap out the symbols for the actual values\n",
    "# x, y = sp.symbols('x y')\n",
    "# for i in range(len(full_drag)):\n",
    "#     # Generate the current symbols to replace based on the expression's position in the list\n",
    "#     sns_1 = sp.Symbol(f'N_6kg{i+1}')\n",
    "#     sns_2 = sp.Symbol(f'N_6kg{i+2}')\n",
    "    \n",
    "#     expression = full_drag[i].subs({sns_1: x, sns_2: y})\n",
    "    \n",
    "#     # Update the list with the modified expression\n",
    "#     full_drag_lambda.append(expression) \n",
    "\n",
    "# full_drag_updated_lambda = [sp.lambdify((x, y), eq, 'numpy') for eq in full_drag_lambda]\n",
    "\n",
    "#Symbols\n",
    "symbols = scenario_properties.species_types\n",
    "print(symbols)\n",
    "\n",
    "# Initial population\n",
    "print(x0)\n",
    "\n",
    "# Lambda function\n",
    "print(full_lambda[0])\n",
    "\n",
    "# POST MISSION DISPOSAL\n",
    "full_pmd = scenario_properties.full_Cdot_PMD\n",
    "symbols = full_pmd.atoms(sp.Symbol)\n",
    "print(full_pmd[:, 1])\n",
    "\n",
    "full_coll = scenario_properties.equations\n",
    "print(full_coll[:, 1])\n",
    "\n",
    "drag = scenario_properties.full_drag\n",
    "print(drag[:, 1])"
   ]
  },
  {
   "cell_type": "code",
   "execution_count": 782,
   "metadata": {},
   "outputs": [
    {
     "name": "stdout",
     "output_type": "stream",
     "text": [
      "320\n",
      "[Su_260kg_1, Su_260kg_2, Su_260kg_3, Su_260kg_4, Su_260kg_5, Su_260kg_6, Su_260kg_7, Su_260kg_8, Su_260kg_9, Su_260kg_10, Su_260kg_11, Su_260kg_12, Su_260kg_13, Su_260kg_14, Su_260kg_15, Su_260kg_16, Su_260kg_17, Su_260kg_18, Su_260kg_19, Su_260kg_20, Su_260kg_21, Su_260kg_22, Su_260kg_23, Su_260kg_24, Su_260kg_25, Su_260kg_26, Su_260kg_27, Su_260kg_28, Su_260kg_29, Su_260kg_30, Su_260kg_31, Su_260kg_32, Su_260kg_33, Su_260kg_34, Su_260kg_35, Su_260kg_36, Su_260kg_37, Su_260kg_38, Su_260kg_39, Su_260kg_40, Su_473kg_1, Su_473kg_2, Su_473kg_3, Su_473kg_4, Su_473kg_5, Su_473kg_6, Su_473kg_7, Su_473kg_8, Su_473kg_9, Su_473kg_10, Su_473kg_11, Su_473kg_12, Su_473kg_13, Su_473kg_14, Su_473kg_15, Su_473kg_16, Su_473kg_17, Su_473kg_18, Su_473kg_19, Su_473kg_20, Su_473kg_21, Su_473kg_22, Su_473kg_23, Su_473kg_24, Su_473kg_25, Su_473kg_26, Su_473kg_27, Su_473kg_28, Su_473kg_29, Su_473kg_30, Su_473kg_31, Su_473kg_32, Su_473kg_33, Su_473kg_34, Su_473kg_35, Su_473kg_36, Su_473kg_37, Su_473kg_38, Su_473kg_39, Su_473kg_40, sns_1, sns_2, sns_3, sns_4, sns_5, sns_6, sns_7, sns_8, sns_9, sns_10, sns_11, sns_12, sns_13, sns_14, sns_15, sns_16, sns_17, sns_18, sns_19, sns_20, sns_21, sns_22, sns_23, sns_24, sns_25, sns_26, sns_27, sns_28, sns_29, sns_30, sns_31, sns_32, sns_33, sns_34, sns_35, sns_36, sns_37, sns_38, sns_39, sns_40, N_0p00141372kg_1, N_0p00141372kg_2, N_0p00141372kg_3, N_0p00141372kg_4, N_0p00141372kg_5, N_0p00141372kg_6, N_0p00141372kg_7, N_0p00141372kg_8, N_0p00141372kg_9, N_0p00141372kg_10, N_0p00141372kg_11, N_0p00141372kg_12, N_0p00141372kg_13, N_0p00141372kg_14, N_0p00141372kg_15, N_0p00141372kg_16, N_0p00141372kg_17, N_0p00141372kg_18, N_0p00141372kg_19, N_0p00141372kg_20, N_0p00141372kg_21, N_0p00141372kg_22, N_0p00141372kg_23, N_0p00141372kg_24, N_0p00141372kg_25, N_0p00141372kg_26, N_0p00141372kg_27, N_0p00141372kg_28, N_0p00141372kg_29, N_0p00141372kg_30, N_0p00141372kg_31, N_0p00141372kg_32, N_0p00141372kg_33, N_0p00141372kg_34, N_0p00141372kg_35, N_0p00141372kg_36, N_0p00141372kg_37, N_0p00141372kg_38, N_0p00141372kg_39, N_0p00141372kg_40, N_0p567kg_1, N_0p567kg_2, N_0p567kg_3, N_0p567kg_4, N_0p567kg_5, N_0p567kg_6, N_0p567kg_7, N_0p567kg_8, N_0p567kg_9, N_0p567kg_10, N_0p567kg_11, N_0p567kg_12, N_0p567kg_13, N_0p567kg_14, N_0p567kg_15, N_0p567kg_16, N_0p567kg_17, N_0p567kg_18, N_0p567kg_19, N_0p567kg_20, N_0p567kg_21, N_0p567kg_22, N_0p567kg_23, N_0p567kg_24, N_0p567kg_25, N_0p567kg_26, N_0p567kg_27, N_0p567kg_28, N_0p567kg_29, N_0p567kg_30, N_0p567kg_31, N_0p567kg_32, N_0p567kg_33, N_0p567kg_34, N_0p567kg_35, N_0p567kg_36, N_0p567kg_37, N_0p567kg_38, N_0p567kg_39, N_0p567kg_40, N_6kg_1, N_6kg_2, N_6kg_3, N_6kg_4, N_6kg_5, N_6kg_6, N_6kg_7, N_6kg_8, N_6kg_9, N_6kg_10, N_6kg_11, N_6kg_12, N_6kg_13, N_6kg_14, N_6kg_15, N_6kg_16, N_6kg_17, N_6kg_18, N_6kg_19, N_6kg_20, N_6kg_21, N_6kg_22, N_6kg_23, N_6kg_24, N_6kg_25, N_6kg_26, N_6kg_27, N_6kg_28, N_6kg_29, N_6kg_30, N_6kg_31, N_6kg_32, N_6kg_33, N_6kg_34, N_6kg_35, N_6kg_36, N_6kg_37, N_6kg_38, N_6kg_39, N_6kg_40, N_260kg_1, N_260kg_2, N_260kg_3, N_260kg_4, N_260kg_5, N_260kg_6, N_260kg_7, N_260kg_8, N_260kg_9, N_260kg_10, N_260kg_11, N_260kg_12, N_260kg_13, N_260kg_14, N_260kg_15, N_260kg_16, N_260kg_17, N_260kg_18, N_260kg_19, N_260kg_20, N_260kg_21, N_260kg_22, N_260kg_23, N_260kg_24, N_260kg_25, N_260kg_26, N_260kg_27, N_260kg_28, N_260kg_29, N_260kg_30, N_260kg_31, N_260kg_32, N_260kg_33, N_260kg_34, N_260kg_35, N_260kg_36, N_260kg_37, N_260kg_38, N_260kg_39, N_260kg_40, N_473kg_1, N_473kg_2, N_473kg_3, N_473kg_4, N_473kg_5, N_473kg_6, N_473kg_7, N_473kg_8, N_473kg_9, N_473kg_10, N_473kg_11, N_473kg_12, N_473kg_13, N_473kg_14, N_473kg_15, N_473kg_16, N_473kg_17, N_473kg_18, N_473kg_19, N_473kg_20, N_473kg_21, N_473kg_22, N_473kg_23, N_473kg_24, N_473kg_25, N_473kg_26, N_473kg_27, N_473kg_28, N_473kg_29, N_473kg_30, N_473kg_31, N_473kg_32, N_473kg_33, N_473kg_34, N_473kg_35, N_473kg_36, N_473kg_37, N_473kg_38, N_473kg_39, N_473kg_40]\n"
     ]
    }
   ],
   "source": [
    "# Lambdafiying the equations\n",
    "symbols = scenario_properties.all_symbolic_vars\n",
    "\n",
    "        \n",
    "# Convert to symbols\n",
    "print(len(symbols)) # Should be 320 for a 40, 8 matrix\n",
    "print(symbols)\n",
    "# Convert equations to lambda functions\n",
    "equations = [sp.lambdify(symbols, eq, 'numpy') for eq in scenario_properties.equations]"
   ]
  },
  {
   "cell_type": "code",
   "execution_count": 800,
   "metadata": {},
   "outputs": [],
   "source": [
    "full_lambda_flattened = []\n",
    "\n",
    "for i in range(len(full_lambda)):\n",
    "    if full_lambda[i] is not None:\n",
    "        full_lambda_flattened.extend(full_lambda[i])\n",
    "    else:\n",
    "        # Append None to the list, length of scenario_properties.n_shells\n",
    "        full_lambda_flattened.extend([None]*scenario_properties.n_shells)"
   ]
  },
  {
   "cell_type": "code",
   "execution_count": 806,
   "metadata": {},
   "outputs": [
    {
     "ename": "KeyboardInterrupt",
     "evalue": "",
     "output_type": "error",
     "traceback": [
      "\u001b[1;31m---------------------------------------------------------------------------\u001b[0m",
      "\u001b[1;31mKeyboardInterrupt\u001b[0m                         Traceback (most recent call last)",
      "\u001b[1;32mD:\\TEMP\\ipykernel_9284\\884547692.py\u001b[0m in \u001b[0;36m<module>\u001b[1;34m\u001b[0m\n\u001b[0;32m     12\u001b[0m     \u001b[1;32mreturn\u001b[0m \u001b[0mN\u001b[0m\u001b[1;33m\u001b[0m\u001b[1;33m\u001b[0m\u001b[0m\n\u001b[0;32m     13\u001b[0m \u001b[1;33m\u001b[0m\u001b[0m\n\u001b[1;32m---> 14\u001b[1;33m \u001b[0moutput\u001b[0m \u001b[1;33m=\u001b[0m \u001b[0msolve_ivp\u001b[0m\u001b[1;33m(\u001b[0m\u001b[0mpopulation_shell\u001b[0m\u001b[1;33m,\u001b[0m \u001b[1;33m[\u001b[0m\u001b[1;36m0\u001b[0m\u001b[1;33m,\u001b[0m \u001b[1;36m0.001\u001b[0m\u001b[1;33m]\u001b[0m\u001b[1;33m,\u001b[0m \u001b[0mx0_flattened\u001b[0m\u001b[1;33m,\u001b[0m \u001b[0margs\u001b[0m\u001b[1;33m=\u001b[0m\u001b[1;33m(\u001b[0m\u001b[0mfull_lambda_flattened\u001b[0m\u001b[1;33m,\u001b[0m \u001b[0mscenario_properties\u001b[0m\u001b[1;33m.\u001b[0m\u001b[0mequations\u001b[0m\u001b[1;33m)\u001b[0m\u001b[1;33m,\u001b[0m \u001b[0mmethod\u001b[0m\u001b[1;33m=\u001b[0m\u001b[1;34m'RK23'\u001b[0m\u001b[1;33m)\u001b[0m\u001b[1;33m\u001b[0m\u001b[1;33m\u001b[0m\u001b[0m\n\u001b[0m\u001b[0;32m     15\u001b[0m \u001b[1;31m#output = solve_ivp(population_shell, [scenario_properties.scen_times[0], scenario_properties.scen_times[-1]], x0_flattened, args=(full_lambda_flattened, scenario_properties.equations), t_eval=method='RK23')\u001b[0m\u001b[1;33m\u001b[0m\u001b[1;33m\u001b[0m\u001b[1;33m\u001b[0m\u001b[0m\n",
      "\u001b[1;32md:\\Programs\\Anaconda\\envs\\fspsim\\lib\\site-packages\\scipy\\integrate\\_ivp\\ivp.py\u001b[0m in \u001b[0;36msolve_ivp\u001b[1;34m(fun, t_span, y0, method, t_eval, dense_output, events, vectorized, args, **options)\u001b[0m\n\u001b[0;32m    589\u001b[0m     \u001b[0mstatus\u001b[0m \u001b[1;33m=\u001b[0m \u001b[1;32mNone\u001b[0m\u001b[1;33m\u001b[0m\u001b[1;33m\u001b[0m\u001b[0m\n\u001b[0;32m    590\u001b[0m     \u001b[1;32mwhile\u001b[0m \u001b[0mstatus\u001b[0m \u001b[1;32mis\u001b[0m \u001b[1;32mNone\u001b[0m\u001b[1;33m:\u001b[0m\u001b[1;33m\u001b[0m\u001b[1;33m\u001b[0m\u001b[0m\n\u001b[1;32m--> 591\u001b[1;33m         \u001b[0mmessage\u001b[0m \u001b[1;33m=\u001b[0m \u001b[0msolver\u001b[0m\u001b[1;33m.\u001b[0m\u001b[0mstep\u001b[0m\u001b[1;33m(\u001b[0m\u001b[1;33m)\u001b[0m\u001b[1;33m\u001b[0m\u001b[1;33m\u001b[0m\u001b[0m\n\u001b[0m\u001b[0;32m    592\u001b[0m \u001b[1;33m\u001b[0m\u001b[0m\n\u001b[0;32m    593\u001b[0m         \u001b[1;32mif\u001b[0m \u001b[0msolver\u001b[0m\u001b[1;33m.\u001b[0m\u001b[0mstatus\u001b[0m \u001b[1;33m==\u001b[0m \u001b[1;34m'finished'\u001b[0m\u001b[1;33m:\u001b[0m\u001b[1;33m\u001b[0m\u001b[1;33m\u001b[0m\u001b[0m\n",
      "\u001b[1;32md:\\Programs\\Anaconda\\envs\\fspsim\\lib\\site-packages\\scipy\\integrate\\_ivp\\base.py\u001b[0m in \u001b[0;36mstep\u001b[1;34m(self)\u001b[0m\n\u001b[0;32m    179\u001b[0m         \u001b[1;32melse\u001b[0m\u001b[1;33m:\u001b[0m\u001b[1;33m\u001b[0m\u001b[1;33m\u001b[0m\u001b[0m\n\u001b[0;32m    180\u001b[0m             \u001b[0mt\u001b[0m \u001b[1;33m=\u001b[0m \u001b[0mself\u001b[0m\u001b[1;33m.\u001b[0m\u001b[0mt\u001b[0m\u001b[1;33m\u001b[0m\u001b[1;33m\u001b[0m\u001b[0m\n\u001b[1;32m--> 181\u001b[1;33m             \u001b[0msuccess\u001b[0m\u001b[1;33m,\u001b[0m \u001b[0mmessage\u001b[0m \u001b[1;33m=\u001b[0m \u001b[0mself\u001b[0m\u001b[1;33m.\u001b[0m\u001b[0m_step_impl\u001b[0m\u001b[1;33m(\u001b[0m\u001b[1;33m)\u001b[0m\u001b[1;33m\u001b[0m\u001b[1;33m\u001b[0m\u001b[0m\n\u001b[0m\u001b[0;32m    182\u001b[0m \u001b[1;33m\u001b[0m\u001b[0m\n\u001b[0;32m    183\u001b[0m             \u001b[1;32mif\u001b[0m \u001b[1;32mnot\u001b[0m \u001b[0msuccess\u001b[0m\u001b[1;33m:\u001b[0m\u001b[1;33m\u001b[0m\u001b[1;33m\u001b[0m\u001b[0m\n",
      "\u001b[1;32md:\\Programs\\Anaconda\\envs\\fspsim\\lib\\site-packages\\scipy\\integrate\\_ivp\\rk.py\u001b[0m in \u001b[0;36m_step_impl\u001b[1;34m(self)\u001b[0m\n\u001b[0;32m    142\u001b[0m             \u001b[0mh_abs\u001b[0m \u001b[1;33m=\u001b[0m \u001b[0mnp\u001b[0m\u001b[1;33m.\u001b[0m\u001b[0mabs\u001b[0m\u001b[1;33m(\u001b[0m\u001b[0mh\u001b[0m\u001b[1;33m)\u001b[0m\u001b[1;33m\u001b[0m\u001b[1;33m\u001b[0m\u001b[0m\n\u001b[0;32m    143\u001b[0m \u001b[1;33m\u001b[0m\u001b[0m\n\u001b[1;32m--> 144\u001b[1;33m             y_new, f_new = rk_step(self.fun, t, y, self.f, h, self.A,\n\u001b[0m\u001b[0;32m    145\u001b[0m                                    self.B, self.C, self.K)\n\u001b[0;32m    146\u001b[0m             \u001b[0mscale\u001b[0m \u001b[1;33m=\u001b[0m \u001b[0matol\u001b[0m \u001b[1;33m+\u001b[0m \u001b[0mnp\u001b[0m\u001b[1;33m.\u001b[0m\u001b[0mmaximum\u001b[0m\u001b[1;33m(\u001b[0m\u001b[0mnp\u001b[0m\u001b[1;33m.\u001b[0m\u001b[0mabs\u001b[0m\u001b[1;33m(\u001b[0m\u001b[0my\u001b[0m\u001b[1;33m)\u001b[0m\u001b[1;33m,\u001b[0m \u001b[0mnp\u001b[0m\u001b[1;33m.\u001b[0m\u001b[0mabs\u001b[0m\u001b[1;33m(\u001b[0m\u001b[0my_new\u001b[0m\u001b[1;33m)\u001b[0m\u001b[1;33m)\u001b[0m \u001b[1;33m*\u001b[0m \u001b[0mrtol\u001b[0m\u001b[1;33m\u001b[0m\u001b[1;33m\u001b[0m\u001b[0m\n",
      "\u001b[1;32md:\\Programs\\Anaconda\\envs\\fspsim\\lib\\site-packages\\scipy\\integrate\\_ivp\\rk.py\u001b[0m in \u001b[0;36mrk_step\u001b[1;34m(fun, t, y, f, h, A, B, C, K)\u001b[0m\n\u001b[0;32m     65\u001b[0m \u001b[1;33m\u001b[0m\u001b[0m\n\u001b[0;32m     66\u001b[0m     \u001b[0my_new\u001b[0m \u001b[1;33m=\u001b[0m \u001b[0my\u001b[0m \u001b[1;33m+\u001b[0m \u001b[0mh\u001b[0m \u001b[1;33m*\u001b[0m \u001b[0mnp\u001b[0m\u001b[1;33m.\u001b[0m\u001b[0mdot\u001b[0m\u001b[1;33m(\u001b[0m\u001b[0mK\u001b[0m\u001b[1;33m[\u001b[0m\u001b[1;33m:\u001b[0m\u001b[1;33m-\u001b[0m\u001b[1;36m1\u001b[0m\u001b[1;33m]\u001b[0m\u001b[1;33m.\u001b[0m\u001b[0mT\u001b[0m\u001b[1;33m,\u001b[0m \u001b[0mB\u001b[0m\u001b[1;33m)\u001b[0m\u001b[1;33m\u001b[0m\u001b[1;33m\u001b[0m\u001b[0m\n\u001b[1;32m---> 67\u001b[1;33m     \u001b[0mf_new\u001b[0m \u001b[1;33m=\u001b[0m \u001b[0mfun\u001b[0m\u001b[1;33m(\u001b[0m\u001b[0mt\u001b[0m \u001b[1;33m+\u001b[0m \u001b[0mh\u001b[0m\u001b[1;33m,\u001b[0m \u001b[0my_new\u001b[0m\u001b[1;33m)\u001b[0m\u001b[1;33m\u001b[0m\u001b[1;33m\u001b[0m\u001b[0m\n\u001b[0m\u001b[0;32m     68\u001b[0m \u001b[1;33m\u001b[0m\u001b[0m\n\u001b[0;32m     69\u001b[0m     \u001b[0mK\u001b[0m\u001b[1;33m[\u001b[0m\u001b[1;33m-\u001b[0m\u001b[1;36m1\u001b[0m\u001b[1;33m]\u001b[0m \u001b[1;33m=\u001b[0m \u001b[0mf_new\u001b[0m\u001b[1;33m\u001b[0m\u001b[1;33m\u001b[0m\u001b[0m\n",
      "\u001b[1;32md:\\Programs\\Anaconda\\envs\\fspsim\\lib\\site-packages\\scipy\\integrate\\_ivp\\base.py\u001b[0m in \u001b[0;36mfun\u001b[1;34m(t, y)\u001b[0m\n\u001b[0;32m    136\u001b[0m         \u001b[1;32mdef\u001b[0m \u001b[0mfun\u001b[0m\u001b[1;33m(\u001b[0m\u001b[0mt\u001b[0m\u001b[1;33m,\u001b[0m \u001b[0my\u001b[0m\u001b[1;33m)\u001b[0m\u001b[1;33m:\u001b[0m\u001b[1;33m\u001b[0m\u001b[1;33m\u001b[0m\u001b[0m\n\u001b[0;32m    137\u001b[0m             \u001b[0mself\u001b[0m\u001b[1;33m.\u001b[0m\u001b[0mnfev\u001b[0m \u001b[1;33m+=\u001b[0m \u001b[1;36m1\u001b[0m\u001b[1;33m\u001b[0m\u001b[1;33m\u001b[0m\u001b[0m\n\u001b[1;32m--> 138\u001b[1;33m             \u001b[1;32mreturn\u001b[0m \u001b[0mself\u001b[0m\u001b[1;33m.\u001b[0m\u001b[0mfun_single\u001b[0m\u001b[1;33m(\u001b[0m\u001b[0mt\u001b[0m\u001b[1;33m,\u001b[0m \u001b[0my\u001b[0m\u001b[1;33m)\u001b[0m\u001b[1;33m\u001b[0m\u001b[1;33m\u001b[0m\u001b[0m\n\u001b[0m\u001b[0;32m    139\u001b[0m \u001b[1;33m\u001b[0m\u001b[0m\n\u001b[0;32m    140\u001b[0m         \u001b[0mself\u001b[0m\u001b[1;33m.\u001b[0m\u001b[0mfun\u001b[0m \u001b[1;33m=\u001b[0m \u001b[0mfun\u001b[0m\u001b[1;33m\u001b[0m\u001b[1;33m\u001b[0m\u001b[0m\n",
      "\u001b[1;32md:\\Programs\\Anaconda\\envs\\fspsim\\lib\\site-packages\\scipy\\integrate\\_ivp\\base.py\u001b[0m in \u001b[0;36mfun_wrapped\u001b[1;34m(t, y)\u001b[0m\n\u001b[0;32m     18\u001b[0m \u001b[1;33m\u001b[0m\u001b[0m\n\u001b[0;32m     19\u001b[0m     \u001b[1;32mdef\u001b[0m \u001b[0mfun_wrapped\u001b[0m\u001b[1;33m(\u001b[0m\u001b[0mt\u001b[0m\u001b[1;33m,\u001b[0m \u001b[0my\u001b[0m\u001b[1;33m)\u001b[0m\u001b[1;33m:\u001b[0m\u001b[1;33m\u001b[0m\u001b[1;33m\u001b[0m\u001b[0m\n\u001b[1;32m---> 20\u001b[1;33m         \u001b[1;32mreturn\u001b[0m \u001b[0mnp\u001b[0m\u001b[1;33m.\u001b[0m\u001b[0masarray\u001b[0m\u001b[1;33m(\u001b[0m\u001b[0mfun\u001b[0m\u001b[1;33m(\u001b[0m\u001b[0mt\u001b[0m\u001b[1;33m,\u001b[0m \u001b[0my\u001b[0m\u001b[1;33m)\u001b[0m\u001b[1;33m,\u001b[0m \u001b[0mdtype\u001b[0m\u001b[1;33m=\u001b[0m\u001b[0mdtype\u001b[0m\u001b[1;33m)\u001b[0m\u001b[1;33m\u001b[0m\u001b[1;33m\u001b[0m\u001b[0m\n\u001b[0m\u001b[0;32m     21\u001b[0m \u001b[1;33m\u001b[0m\u001b[0m\n\u001b[0;32m     22\u001b[0m     \u001b[1;32mreturn\u001b[0m \u001b[0mfun_wrapped\u001b[0m\u001b[1;33m,\u001b[0m \u001b[0my0\u001b[0m\u001b[1;33m\u001b[0m\u001b[1;33m\u001b[0m\u001b[0m\n",
      "\u001b[1;32md:\\Programs\\Anaconda\\envs\\fspsim\\lib\\site-packages\\scipy\\integrate\\_ivp\\ivp.py\u001b[0m in \u001b[0;36m<lambda>\u001b[1;34m(t, x, fun)\u001b[0m\n\u001b[0;32m    527\u001b[0m             \u001b[1;32mraise\u001b[0m \u001b[0mTypeError\u001b[0m\u001b[1;33m(\u001b[0m\u001b[0msuggestion_tuple\u001b[0m\u001b[1;33m)\u001b[0m \u001b[1;32mfrom\u001b[0m \u001b[0mexp\u001b[0m\u001b[1;33m\u001b[0m\u001b[1;33m\u001b[0m\u001b[0m\n\u001b[0;32m    528\u001b[0m \u001b[1;33m\u001b[0m\u001b[0m\n\u001b[1;32m--> 529\u001b[1;33m         \u001b[0mfun\u001b[0m \u001b[1;33m=\u001b[0m \u001b[1;32mlambda\u001b[0m \u001b[0mt\u001b[0m\u001b[1;33m,\u001b[0m \u001b[0mx\u001b[0m\u001b[1;33m,\u001b[0m \u001b[0mfun\u001b[0m\u001b[1;33m=\u001b[0m\u001b[0mfun\u001b[0m\u001b[1;33m:\u001b[0m \u001b[0mfun\u001b[0m\u001b[1;33m(\u001b[0m\u001b[0mt\u001b[0m\u001b[1;33m,\u001b[0m \u001b[0mx\u001b[0m\u001b[1;33m,\u001b[0m \u001b[1;33m*\u001b[0m\u001b[0margs\u001b[0m\u001b[1;33m)\u001b[0m\u001b[1;33m\u001b[0m\u001b[1;33m\u001b[0m\u001b[0m\n\u001b[0m\u001b[0;32m    530\u001b[0m         \u001b[0mjac\u001b[0m \u001b[1;33m=\u001b[0m \u001b[0moptions\u001b[0m\u001b[1;33m.\u001b[0m\u001b[0mget\u001b[0m\u001b[1;33m(\u001b[0m\u001b[1;34m'jac'\u001b[0m\u001b[1;33m)\u001b[0m\u001b[1;33m\u001b[0m\u001b[1;33m\u001b[0m\u001b[0m\n\u001b[0;32m    531\u001b[0m         \u001b[1;32mif\u001b[0m \u001b[0mcallable\u001b[0m\u001b[1;33m(\u001b[0m\u001b[0mjac\u001b[0m\u001b[1;33m)\u001b[0m\u001b[1;33m:\u001b[0m\u001b[1;33m\u001b[0m\u001b[1;33m\u001b[0m\u001b[0m\n",
      "\u001b[1;32mD:\\TEMP\\ipykernel_9284\\884547692.py\u001b[0m in \u001b[0;36mpopulation_shell\u001b[1;34m(t, N, full_lambda, equations)\u001b[0m\n\u001b[0;32m      8\u001b[0m         \u001b[0mlambda_value\u001b[0m \u001b[1;33m=\u001b[0m \u001b[0mfull_lambda\u001b[0m\u001b[1;33m[\u001b[0m\u001b[0mi\u001b[0m\u001b[1;33m]\u001b[0m\u001b[1;33m\u001b[0m\u001b[1;33m\u001b[0m\u001b[0m\n\u001b[0;32m      9\u001b[0m         \u001b[1;32mif\u001b[0m \u001b[0mlambda_value\u001b[0m \u001b[1;32mis\u001b[0m \u001b[1;32mnot\u001b[0m \u001b[1;32mNone\u001b[0m\u001b[1;33m:\u001b[0m\u001b[1;33m\u001b[0m\u001b[1;33m\u001b[0m\u001b[0m\n\u001b[1;32m---> 10\u001b[1;33m             \u001b[0mN\u001b[0m\u001b[1;33m[\u001b[0m\u001b[0mi\u001b[0m\u001b[1;33m]\u001b[0m \u001b[1;33m=\u001b[0m \u001b[0mN\u001b[0m\u001b[1;33m[\u001b[0m\u001b[0mi\u001b[0m\u001b[1;33m]\u001b[0m \u001b[1;33m+\u001b[0m \u001b[0mlambda_value\u001b[0m\u001b[1;33m(\u001b[0m\u001b[0mt\u001b[0m\u001b[1;33m)\u001b[0m\u001b[1;33m\u001b[0m\u001b[1;33m\u001b[0m\u001b[0m\n\u001b[0m\u001b[0;32m     11\u001b[0m \u001b[1;33m\u001b[0m\u001b[0m\n\u001b[0;32m     12\u001b[0m     \u001b[1;32mreturn\u001b[0m \u001b[0mN\u001b[0m\u001b[1;33m\u001b[0m\u001b[1;33m\u001b[0m\u001b[0m\n",
      "\u001b[1;32md:\\Programs\\Anaconda\\envs\\fspsim\\lib\\site-packages\\scipy\\interpolate\\_polyint.py\u001b[0m in \u001b[0;36m__call__\u001b[1;34m(self, x)\u001b[0m\n\u001b[0;32m     78\u001b[0m         \"\"\"\n\u001b[0;32m     79\u001b[0m         \u001b[0mx\u001b[0m\u001b[1;33m,\u001b[0m \u001b[0mx_shape\u001b[0m \u001b[1;33m=\u001b[0m \u001b[0mself\u001b[0m\u001b[1;33m.\u001b[0m\u001b[0m_prepare_x\u001b[0m\u001b[1;33m(\u001b[0m\u001b[0mx\u001b[0m\u001b[1;33m)\u001b[0m\u001b[1;33m\u001b[0m\u001b[1;33m\u001b[0m\u001b[0m\n\u001b[1;32m---> 80\u001b[1;33m         \u001b[0my\u001b[0m \u001b[1;33m=\u001b[0m \u001b[0mself\u001b[0m\u001b[1;33m.\u001b[0m\u001b[0m_evaluate\u001b[0m\u001b[1;33m(\u001b[0m\u001b[0mx\u001b[0m\u001b[1;33m)\u001b[0m\u001b[1;33m\u001b[0m\u001b[1;33m\u001b[0m\u001b[0m\n\u001b[0m\u001b[0;32m     81\u001b[0m         \u001b[1;32mreturn\u001b[0m \u001b[0mself\u001b[0m\u001b[1;33m.\u001b[0m\u001b[0m_finish_y\u001b[0m\u001b[1;33m(\u001b[0m\u001b[0my\u001b[0m\u001b[1;33m,\u001b[0m \u001b[0mx_shape\u001b[0m\u001b[1;33m)\u001b[0m\u001b[1;33m\u001b[0m\u001b[1;33m\u001b[0m\u001b[0m\n\u001b[0;32m     82\u001b[0m \u001b[1;33m\u001b[0m\u001b[0m\n",
      "\u001b[1;32md:\\Programs\\Anaconda\\envs\\fspsim\\lib\\site-packages\\scipy\\interpolate\\_interpolate.py\u001b[0m in \u001b[0;36m_evaluate\u001b[1;34m(self, x_new)\u001b[0m\n\u001b[0;32m    748\u001b[0m         \u001b[1;31m#    The behavior is set by the bounds_error variable.\u001b[0m\u001b[1;33m\u001b[0m\u001b[1;33m\u001b[0m\u001b[1;33m\u001b[0m\u001b[0m\n\u001b[0;32m    749\u001b[0m         \u001b[0mx_new\u001b[0m \u001b[1;33m=\u001b[0m \u001b[0masarray\u001b[0m\u001b[1;33m(\u001b[0m\u001b[0mx_new\u001b[0m\u001b[1;33m)\u001b[0m\u001b[1;33m\u001b[0m\u001b[1;33m\u001b[0m\u001b[0m\n\u001b[1;32m--> 750\u001b[1;33m         \u001b[0my_new\u001b[0m \u001b[1;33m=\u001b[0m \u001b[0mself\u001b[0m\u001b[1;33m.\u001b[0m\u001b[0m_call\u001b[0m\u001b[1;33m(\u001b[0m\u001b[0mself\u001b[0m\u001b[1;33m,\u001b[0m \u001b[0mx_new\u001b[0m\u001b[1;33m)\u001b[0m\u001b[1;33m\u001b[0m\u001b[1;33m\u001b[0m\u001b[0m\n\u001b[0m\u001b[0;32m    751\u001b[0m         \u001b[1;32mif\u001b[0m \u001b[1;32mnot\u001b[0m \u001b[0mself\u001b[0m\u001b[1;33m.\u001b[0m\u001b[0m_extrapolate\u001b[0m\u001b[1;33m:\u001b[0m\u001b[1;33m\u001b[0m\u001b[1;33m\u001b[0m\u001b[0m\n\u001b[0;32m    752\u001b[0m             \u001b[0mbelow_bounds\u001b[0m\u001b[1;33m,\u001b[0m \u001b[0mabove_bounds\u001b[0m \u001b[1;33m=\u001b[0m \u001b[0mself\u001b[0m\u001b[1;33m.\u001b[0m\u001b[0m_check_bounds\u001b[0m\u001b[1;33m(\u001b[0m\u001b[0mx_new\u001b[0m\u001b[1;33m)\u001b[0m\u001b[1;33m\u001b[0m\u001b[1;33m\u001b[0m\u001b[0m\n",
      "\u001b[1;32md:\\Programs\\Anaconda\\envs\\fspsim\\lib\\site-packages\\scipy\\interpolate\\_interpolate.py\u001b[0m in \u001b[0;36m_call_linear\u001b[1;34m(self, x_new)\u001b[0m\n\u001b[0;32m    690\u001b[0m \u001b[1;33m\u001b[0m\u001b[0m\n\u001b[0;32m    691\u001b[0m         \u001b[0mx_lo\u001b[0m \u001b[1;33m=\u001b[0m \u001b[0mself\u001b[0m\u001b[1;33m.\u001b[0m\u001b[0mx\u001b[0m\u001b[1;33m[\u001b[0m\u001b[0mlo\u001b[0m\u001b[1;33m]\u001b[0m\u001b[1;33m\u001b[0m\u001b[1;33m\u001b[0m\u001b[0m\n\u001b[1;32m--> 692\u001b[1;33m         \u001b[0mx_hi\u001b[0m \u001b[1;33m=\u001b[0m \u001b[0mself\u001b[0m\u001b[1;33m.\u001b[0m\u001b[0mx\u001b[0m\u001b[1;33m[\u001b[0m\u001b[0mhi\u001b[0m\u001b[1;33m]\u001b[0m\u001b[1;33m\u001b[0m\u001b[1;33m\u001b[0m\u001b[0m\n\u001b[0m\u001b[0;32m    693\u001b[0m         \u001b[0my_lo\u001b[0m \u001b[1;33m=\u001b[0m \u001b[0mself\u001b[0m\u001b[1;33m.\u001b[0m\u001b[0m_y\u001b[0m\u001b[1;33m[\u001b[0m\u001b[0mlo\u001b[0m\u001b[1;33m]\u001b[0m\u001b[1;33m\u001b[0m\u001b[1;33m\u001b[0m\u001b[0m\n\u001b[0;32m    694\u001b[0m         \u001b[0my_hi\u001b[0m \u001b[1;33m=\u001b[0m \u001b[0mself\u001b[0m\u001b[1;33m.\u001b[0m\u001b[0m_y\u001b[0m\u001b[1;33m[\u001b[0m\u001b[0mhi\u001b[0m\u001b[1;33m]\u001b[0m\u001b[1;33m\u001b[0m\u001b[1;33m\u001b[0m\u001b[0m\n",
      "\u001b[1;31mKeyboardInterrupt\u001b[0m: "
     ]
    }
   ],
   "source": [
    "# Initial population needs to be in one columnn, so now the intiial population is in one. Species 1 is the first 40 rows, species 2 is the next 40 rows, etc.\n",
    "x0_flattened = x0.T.values.flatten()\n",
    "\n",
    "def population_shell(t, N, full_lambda, equations):\n",
    "    # Full lambda first\n",
    "    # Work through the initial population and find the lambda value for each species\n",
    "    # for i in range(len(N)):\n",
    "    #     lambda_value = full_lambda[i]\n",
    "    #     if lambda_value is not None:\n",
    "    #         N[i] = N[i] + lambda_value(t)\n",
    "\n",
    "    return N\n",
    "    \n",
    "output = solve_ivp(population_shell, [scenario_properties.scen_times[0], scenario_properties.scen_times[-1]], x0_flattened, args=(full_lambda_flattened, scenario_properties.equations), method='RK23')    "
   ]
  },
  {
   "cell_type": "code",
   "execution_count": 626,
   "metadata": {},
   "outputs": [
    {
     "ename": "TypeError",
     "evalue": "Cannot convert expression to float",
     "output_type": "error",
     "traceback": [
      "\u001b[1;31m---------------------------------------------------------------------------\u001b[0m",
      "\u001b[1;31mTypeError\u001b[0m                                 Traceback (most recent call last)",
      "\u001b[1;32mD:\\TEMP\\ipykernel_9284\\2130317152.py\u001b[0m in \u001b[0;36m<module>\u001b[1;34m\u001b[0m\n\u001b[0;32m     29\u001b[0m \u001b[1;33m\u001b[0m\u001b[0m\n\u001b[0;32m     30\u001b[0m \u001b[1;31m# # Solve the system of ODEs\u001b[0m\u001b[1;33m\u001b[0m\u001b[1;33m\u001b[0m\u001b[1;33m\u001b[0m\u001b[0m\n\u001b[1;32m---> 31\u001b[1;33m sol = solve_ivp(satellite_ode, [scenario_properties.scen_times[0], scenario_properties.scen_times[-1]], x0, \n\u001b[0m\u001b[0;32m     32\u001b[0m                 \u001b[0margs\u001b[0m\u001b[1;33m=\u001b[0m\u001b[1;33m(\u001b[0m\u001b[0mfull_lambda\u001b[0m\u001b[1;33m,\u001b[0m \u001b[0mfull_drag_updated_lambda\u001b[0m\u001b[1;33m,\u001b[0m \u001b[0mfull_pmd_lambda\u001b[0m\u001b[1;33m)\u001b[0m\u001b[1;33m,\u001b[0m\u001b[1;33m\u001b[0m\u001b[1;33m\u001b[0m\u001b[0m\n\u001b[0;32m     33\u001b[0m                 t_eval=scenario_properties.scen_times, method='RK23')\n",
      "\u001b[1;32md:\\Programs\\Anaconda\\envs\\fspsim\\lib\\site-packages\\scipy\\integrate\\_ivp\\ivp.py\u001b[0m in \u001b[0;36msolve_ivp\u001b[1;34m(fun, t_span, y0, method, t_eval, dense_output, events, vectorized, args, **options)\u001b[0m\n\u001b[0;32m    555\u001b[0m         \u001b[0mmethod\u001b[0m \u001b[1;33m=\u001b[0m \u001b[0mMETHODS\u001b[0m\u001b[1;33m[\u001b[0m\u001b[0mmethod\u001b[0m\u001b[1;33m]\u001b[0m\u001b[1;33m\u001b[0m\u001b[1;33m\u001b[0m\u001b[0m\n\u001b[0;32m    556\u001b[0m \u001b[1;33m\u001b[0m\u001b[0m\n\u001b[1;32m--> 557\u001b[1;33m     \u001b[0msolver\u001b[0m \u001b[1;33m=\u001b[0m \u001b[0mmethod\u001b[0m\u001b[1;33m(\u001b[0m\u001b[0mfun\u001b[0m\u001b[1;33m,\u001b[0m \u001b[0mt0\u001b[0m\u001b[1;33m,\u001b[0m \u001b[0my0\u001b[0m\u001b[1;33m,\u001b[0m \u001b[0mtf\u001b[0m\u001b[1;33m,\u001b[0m \u001b[0mvectorized\u001b[0m\u001b[1;33m=\u001b[0m\u001b[0mvectorized\u001b[0m\u001b[1;33m,\u001b[0m \u001b[1;33m**\u001b[0m\u001b[0moptions\u001b[0m\u001b[1;33m)\u001b[0m\u001b[1;33m\u001b[0m\u001b[1;33m\u001b[0m\u001b[0m\n\u001b[0m\u001b[0;32m    558\u001b[0m \u001b[1;33m\u001b[0m\u001b[0m\n\u001b[0;32m    559\u001b[0m     \u001b[1;32mif\u001b[0m \u001b[0mt_eval\u001b[0m \u001b[1;32mis\u001b[0m \u001b[1;32mNone\u001b[0m\u001b[1;33m:\u001b[0m\u001b[1;33m\u001b[0m\u001b[1;33m\u001b[0m\u001b[0m\n",
      "\u001b[1;32md:\\Programs\\Anaconda\\envs\\fspsim\\lib\\site-packages\\scipy\\integrate\\_ivp\\rk.py\u001b[0m in \u001b[0;36m__init__\u001b[1;34m(self, fun, t0, y0, t_bound, max_step, rtol, atol, vectorized, first_step, **extraneous)\u001b[0m\n\u001b[0;32m     92\u001b[0m         \u001b[0mself\u001b[0m\u001b[1;33m.\u001b[0m\u001b[0mmax_step\u001b[0m \u001b[1;33m=\u001b[0m \u001b[0mvalidate_max_step\u001b[0m\u001b[1;33m(\u001b[0m\u001b[0mmax_step\u001b[0m\u001b[1;33m)\u001b[0m\u001b[1;33m\u001b[0m\u001b[1;33m\u001b[0m\u001b[0m\n\u001b[0;32m     93\u001b[0m         \u001b[0mself\u001b[0m\u001b[1;33m.\u001b[0m\u001b[0mrtol\u001b[0m\u001b[1;33m,\u001b[0m \u001b[0mself\u001b[0m\u001b[1;33m.\u001b[0m\u001b[0matol\u001b[0m \u001b[1;33m=\u001b[0m \u001b[0mvalidate_tol\u001b[0m\u001b[1;33m(\u001b[0m\u001b[0mrtol\u001b[0m\u001b[1;33m,\u001b[0m \u001b[0matol\u001b[0m\u001b[1;33m,\u001b[0m \u001b[0mself\u001b[0m\u001b[1;33m.\u001b[0m\u001b[0mn\u001b[0m\u001b[1;33m)\u001b[0m\u001b[1;33m\u001b[0m\u001b[1;33m\u001b[0m\u001b[0m\n\u001b[1;32m---> 94\u001b[1;33m         \u001b[0mself\u001b[0m\u001b[1;33m.\u001b[0m\u001b[0mf\u001b[0m \u001b[1;33m=\u001b[0m \u001b[0mself\u001b[0m\u001b[1;33m.\u001b[0m\u001b[0mfun\u001b[0m\u001b[1;33m(\u001b[0m\u001b[0mself\u001b[0m\u001b[1;33m.\u001b[0m\u001b[0mt\u001b[0m\u001b[1;33m,\u001b[0m \u001b[0mself\u001b[0m\u001b[1;33m.\u001b[0m\u001b[0my\u001b[0m\u001b[1;33m)\u001b[0m\u001b[1;33m\u001b[0m\u001b[1;33m\u001b[0m\u001b[0m\n\u001b[0m\u001b[0;32m     95\u001b[0m         \u001b[1;32mif\u001b[0m \u001b[0mfirst_step\u001b[0m \u001b[1;32mis\u001b[0m \u001b[1;32mNone\u001b[0m\u001b[1;33m:\u001b[0m\u001b[1;33m\u001b[0m\u001b[1;33m\u001b[0m\u001b[0m\n\u001b[0;32m     96\u001b[0m             self.h_abs = select_initial_step(\n",
      "\u001b[1;32md:\\Programs\\Anaconda\\envs\\fspsim\\lib\\site-packages\\scipy\\integrate\\_ivp\\base.py\u001b[0m in \u001b[0;36mfun\u001b[1;34m(t, y)\u001b[0m\n\u001b[0;32m    136\u001b[0m         \u001b[1;32mdef\u001b[0m \u001b[0mfun\u001b[0m\u001b[1;33m(\u001b[0m\u001b[0mt\u001b[0m\u001b[1;33m,\u001b[0m \u001b[0my\u001b[0m\u001b[1;33m)\u001b[0m\u001b[1;33m:\u001b[0m\u001b[1;33m\u001b[0m\u001b[1;33m\u001b[0m\u001b[0m\n\u001b[0;32m    137\u001b[0m             \u001b[0mself\u001b[0m\u001b[1;33m.\u001b[0m\u001b[0mnfev\u001b[0m \u001b[1;33m+=\u001b[0m \u001b[1;36m1\u001b[0m\u001b[1;33m\u001b[0m\u001b[1;33m\u001b[0m\u001b[0m\n\u001b[1;32m--> 138\u001b[1;33m             \u001b[1;32mreturn\u001b[0m \u001b[0mself\u001b[0m\u001b[1;33m.\u001b[0m\u001b[0mfun_single\u001b[0m\u001b[1;33m(\u001b[0m\u001b[0mt\u001b[0m\u001b[1;33m,\u001b[0m \u001b[0my\u001b[0m\u001b[1;33m)\u001b[0m\u001b[1;33m\u001b[0m\u001b[1;33m\u001b[0m\u001b[0m\n\u001b[0m\u001b[0;32m    139\u001b[0m \u001b[1;33m\u001b[0m\u001b[0m\n\u001b[0;32m    140\u001b[0m         \u001b[0mself\u001b[0m\u001b[1;33m.\u001b[0m\u001b[0mfun\u001b[0m \u001b[1;33m=\u001b[0m \u001b[0mfun\u001b[0m\u001b[1;33m\u001b[0m\u001b[1;33m\u001b[0m\u001b[0m\n",
      "\u001b[1;32md:\\Programs\\Anaconda\\envs\\fspsim\\lib\\site-packages\\scipy\\integrate\\_ivp\\base.py\u001b[0m in \u001b[0;36mfun_wrapped\u001b[1;34m(t, y)\u001b[0m\n\u001b[0;32m     18\u001b[0m \u001b[1;33m\u001b[0m\u001b[0m\n\u001b[0;32m     19\u001b[0m     \u001b[1;32mdef\u001b[0m \u001b[0mfun_wrapped\u001b[0m\u001b[1;33m(\u001b[0m\u001b[0mt\u001b[0m\u001b[1;33m,\u001b[0m \u001b[0my\u001b[0m\u001b[1;33m)\u001b[0m\u001b[1;33m:\u001b[0m\u001b[1;33m\u001b[0m\u001b[1;33m\u001b[0m\u001b[0m\n\u001b[1;32m---> 20\u001b[1;33m         \u001b[1;32mreturn\u001b[0m \u001b[0mnp\u001b[0m\u001b[1;33m.\u001b[0m\u001b[0masarray\u001b[0m\u001b[1;33m(\u001b[0m\u001b[0mfun\u001b[0m\u001b[1;33m(\u001b[0m\u001b[0mt\u001b[0m\u001b[1;33m,\u001b[0m \u001b[0my\u001b[0m\u001b[1;33m)\u001b[0m\u001b[1;33m,\u001b[0m \u001b[0mdtype\u001b[0m\u001b[1;33m=\u001b[0m\u001b[0mdtype\u001b[0m\u001b[1;33m)\u001b[0m\u001b[1;33m\u001b[0m\u001b[1;33m\u001b[0m\u001b[0m\n\u001b[0m\u001b[0;32m     21\u001b[0m \u001b[1;33m\u001b[0m\u001b[0m\n\u001b[0;32m     22\u001b[0m     \u001b[1;32mreturn\u001b[0m \u001b[0mfun_wrapped\u001b[0m\u001b[1;33m,\u001b[0m \u001b[0my0\u001b[0m\u001b[1;33m\u001b[0m\u001b[1;33m\u001b[0m\u001b[0m\n",
      "\u001b[1;32md:\\Programs\\Anaconda\\envs\\fspsim\\lib\\site-packages\\sympy\\core\\expr.py\u001b[0m in \u001b[0;36m__float__\u001b[1;34m(self)\u001b[0m\n\u001b[0;32m    349\u001b[0m         \u001b[1;32mif\u001b[0m \u001b[0mresult\u001b[0m\u001b[1;33m.\u001b[0m\u001b[0mis_number\u001b[0m \u001b[1;32mand\u001b[0m \u001b[0mresult\u001b[0m\u001b[1;33m.\u001b[0m\u001b[0mas_real_imag\u001b[0m\u001b[1;33m(\u001b[0m\u001b[1;33m)\u001b[0m\u001b[1;33m[\u001b[0m\u001b[1;36m1\u001b[0m\u001b[1;33m]\u001b[0m\u001b[1;33m:\u001b[0m\u001b[1;33m\u001b[0m\u001b[1;33m\u001b[0m\u001b[0m\n\u001b[0;32m    350\u001b[0m             \u001b[1;32mraise\u001b[0m \u001b[0mTypeError\u001b[0m\u001b[1;33m(\u001b[0m\u001b[1;34m\"Cannot convert complex to float\"\u001b[0m\u001b[1;33m)\u001b[0m\u001b[1;33m\u001b[0m\u001b[1;33m\u001b[0m\u001b[0m\n\u001b[1;32m--> 351\u001b[1;33m         \u001b[1;32mraise\u001b[0m \u001b[0mTypeError\u001b[0m\u001b[1;33m(\u001b[0m\u001b[1;34m\"Cannot convert expression to float\"\u001b[0m\u001b[1;33m)\u001b[0m\u001b[1;33m\u001b[0m\u001b[1;33m\u001b[0m\u001b[0m\n\u001b[0m\u001b[0;32m    352\u001b[0m \u001b[1;33m\u001b[0m\u001b[0m\n\u001b[0;32m    353\u001b[0m     \u001b[1;32mdef\u001b[0m \u001b[0m__complex__\u001b[0m\u001b[1;33m(\u001b[0m\u001b[0mself\u001b[0m\u001b[1;33m)\u001b[0m\u001b[1;33m:\u001b[0m\u001b[1;33m\u001b[0m\u001b[1;33m\u001b[0m\u001b[0m\n",
      "\u001b[1;31mTypeError\u001b[0m: Cannot convert expression to float"
     ]
    }
   ],
   "source": [
    "def satellite_ode(t, N, rate_of_change, full_drag, full_pmd):\n",
    "    # Assuming rate_of_change is a callable that represents your interpolated rate of change function\n",
    "    # N is going to be each shells current count of the number of satellites\n",
    "    out = []\n",
    "    \n",
    "    # First we need to calculate the rate of change for each shell\n",
    "    for i in range(len(N)):  # Adjust loop to avoid out-of-bounds\n",
    "        \n",
    "        # Calculate launch rate (input)\n",
    "        r = rate_of_change[i](t)\n",
    "\n",
    "        # Number of satellites decaying into the shell below\n",
    "        sats_curr = N[i]\n",
    "        try:\n",
    "            sats_upp = N[i+1] # Number of satellites coming from the shell above\n",
    "        except IndexError:\n",
    "            sats_upp = 0 # Top shell\n",
    "        \n",
    "        # Now evaluate each lambdified drag equation\n",
    "        drag_value = full_drag[i](sats_curr, sats_upp)\n",
    "\n",
    "        # Post mission disposal\n",
    "        pmd_value = full_pmd[i](sats_curr)\n",
    "\n",
    "        out.append(r + drag_value + pmd_value)\n",
    "\n",
    "    return out\n",
    "\n",
    "\n",
    "# # Solve the system of ODEs\n",
    "sol = solve_ivp(satellite_ode, [scenario_properties.scen_times[0], scenario_properties.scen_times[-1]], x0, \n",
    "                args=(full_lambda, full_drag_updated_lambda, full_pmd_lambda), \n",
    "                t_eval=scenario_properties.scen_times, method='RK23')\n",
    "\n",
    "# Plotting the results\n",
    "plt.figure(figsize=(10, 6))\n",
    "\n",
    "for i in range(sol.y.shape[0]):\n",
    "    plt.plot(sol.t, sol.y[i], label=f'Shell {i+1}')\n",
    "\n",
    "plt.xlabel('Time')\n",
    "plt.ylabel('Number of Satellites')\n",
    "plt.title('Satellite Population Dynamics')\n",
    "plt.legend()\n",
    "plt.show()\n"
   ]
  }
 ],
 "metadata": {
  "kernelspec": {
   "display_name": "fspsim",
   "language": "python",
   "name": "python3"
  },
  "language_info": {
   "codemirror_mode": {
    "name": "ipython",
    "version": 3
   },
   "file_extension": ".py",
   "mimetype": "text/x-python",
   "name": "python",
   "nbconvert_exporter": "python",
   "pygments_lexer": "ipython3",
   "version": "3.8.16"
  }
 },
 "nbformat": 4,
 "nbformat_minor": 2
}
