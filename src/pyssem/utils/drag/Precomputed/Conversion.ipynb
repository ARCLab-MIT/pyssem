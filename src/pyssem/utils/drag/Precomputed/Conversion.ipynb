{
 "cells": [
  {
   "cell_type": "code",
   "execution_count": 15,
   "metadata": {},
   "outputs": [
    {
     "name": "stdout",
     "output_type": "stream",
     "text": [
      "[[(array([[2.12304163e-10, 2.18002397e-10, 1.93540521e-10, ...,\n",
      "          1.79873765e-10, 1.69222585e-10, 1.73319035e-10],\n",
      "         [4.15468913e-11, 4.26384880e-11, 3.69791928e-11, ...,\n",
      "          3.34133440e-11, 3.09033724e-11, 3.16802204e-11],\n",
      "         [1.06908750e-11, 1.09667106e-11, 9.31444651e-12, ...,\n",
      "          8.21130578e-12, 7.48387072e-12, 7.67910802e-12],\n",
      "         ...,\n",
      "         [1.91119717e-16, 1.94227338e-16, 2.01191404e-16, ...,\n",
      "          2.15792913e-16, 2.18008832e-16, 2.19424794e-16],\n",
      "         [1.79176828e-16, 1.82272915e-16, 1.89679517e-16, ...,\n",
      "          2.04431135e-16, 2.06761270e-16, 2.08296170e-16],\n",
      "         [1.68655011e-16, 1.71732644e-16, 1.79485045e-16, ...,\n",
      "          1.94308832e-16, 1.96724840e-16, 1.98354505e-16]]), array([[2020],\n",
      "         [2020],\n",
      "         [2020],\n",
      "         ...,\n",
      "         [2223],\n",
      "         [2224],\n",
      "         [2224]], dtype=uint16), array([[ 3],\n",
      "         [ 4],\n",
      "         [ 5],\n",
      "         ...,\n",
      "         [12],\n",
      "         [ 1],\n",
      "         [ 2]], dtype=uint8), array([[ 200,  250,  300,  350,  400,  450,  500,  550,  600,  650,  700,\n",
      "           750,  800,  850,  900,  950, 1000, 1050, 1100, 1150, 1200, 1250,\n",
      "          1300, 1350, 1400, 1450, 1500, 1550, 1600, 1650, 1700, 1750, 1800,\n",
      "          1850, 1900, 1950, 2000]], dtype=uint16))                                                     ]]\n",
      "Saved dens_highvar_2000_dens_highvar_2000.csv\n"
     ]
    }
   ],
   "source": [
    "import scipy.io\n",
    "import pandas as pd\n",
    "import numpy as np\n",
    "import os\n",
    "\n",
    "# # Get all .mat files in the current working directory\n",
    "# mat_files = [file for file in os.listdir() if file.endswith('.mat')]\n",
    "\n",
    "# # Convert each .mat file to .csv\n",
    "# for mat_file in mat_files:\n",
    "#     # Load the .mat file\n",
    "mat_file = 'dens_highvar_2000.mat'\n",
    "mat_contents = scipy.io.loadmat(mat_file)\n",
    "\n",
    "# Iterate over all variables in the loaded .mat file\n",
    "for var_name in mat_contents:\n",
    "    # Skip any __globals__, __version__, etc.\n",
    "    if var_name.startswith('__'):\n",
    "        continue\n",
    "    \n",
    "    # Get the variable\n",
    "    data = mat_contents[var_name]\n",
    "    \n",
    "    # Check if the variable is a two-dimensional numerical array\n",
    "    if isinstance(data, (np.ndarray, np.generic)) and data.ndim == 2:\n",
    "        try:\n",
    "            # If the array contains structured data, convert it into a regular 2D array of objects\n",
    "            if data.dtype.names is not None:  # This means it's a structured array\n",
    "                data = data.astype('object')\n",
    "\n",
    "            # Convert to DataFrame\n",
    "            print(data)\n",
    "            df = pd.DataFrame(data)\n",
    "            csv_file = mat_file.replace('.mat', f'_{var_name}.csv')\n",
    "            df.to_csv(csv_file, index=False)\n",
    "            print(f'Saved {csv_file}')\n",
    "        except Exception as e:\n",
    "            print(f'Error converting {var_name} in {mat_file}: {e}')\n",
    "    else:\n",
    "        print(f'Skipping {var_name} in {mat_file} as it is not a two-dimensional array or it contains non-numeric data.')\n"
   ]
  },
  {
   "cell_type": "code",
   "execution_count": 71,
   "metadata": {},
   "outputs": [
    {
     "data": {
      "text/plain": [
       "37"
      ]
     },
     "execution_count": 71,
     "metadata": {},
     "output_type": "execute_result"
    }
   ],
   "source": [
    "len(data[0][0][0])"
   ]
  },
  {
   "cell_type": "code",
   "execution_count": 65,
   "metadata": {},
   "outputs": [
    {
     "name": "stdout",
     "output_type": "stream",
     "text": [
      "[2020 2020 2020 ... 2223 2224 2224]\n",
      "[ 200  250  300  350  400  450  500  550  600  650  700  750  800  850\n",
      "  900  950 1000 1050 1100 1150 1200 1250 1300 1350 1400 1450 1500 1550\n",
      " 1600 1650 1700 1750 1800 1850 1900 1950 2000]\n",
      "2448 2448 37\n",
      "12\n"
     ]
    },
    {
     "data": {
      "text/html": [
       "<div>\n",
       "<style scoped>\n",
       "    .dataframe tbody tr th:only-of-type {\n",
       "        vertical-align: middle;\n",
       "    }\n",
       "\n",
       "    .dataframe tbody tr th {\n",
       "        vertical-align: top;\n",
       "    }\n",
       "\n",
       "    .dataframe thead th {\n",
       "        text-align: right;\n",
       "    }\n",
       "</style>\n",
       "<table border=\"1\" class=\"dataframe\">\n",
       "  <thead>\n",
       "    <tr style=\"text-align: right;\">\n",
       "      <th></th>\n",
       "      <th>years</th>\n",
       "      <th>densities</th>\n",
       "    </tr>\n",
       "  </thead>\n",
       "  <tbody>\n",
       "    <tr>\n",
       "      <th>0</th>\n",
       "      <td>2020</td>\n",
       "      <td>3</td>\n",
       "    </tr>\n",
       "    <tr>\n",
       "      <th>1</th>\n",
       "      <td>2020</td>\n",
       "      <td>4</td>\n",
       "    </tr>\n",
       "    <tr>\n",
       "      <th>2</th>\n",
       "      <td>2020</td>\n",
       "      <td>5</td>\n",
       "    </tr>\n",
       "    <tr>\n",
       "      <th>3</th>\n",
       "      <td>2020</td>\n",
       "      <td>6</td>\n",
       "    </tr>\n",
       "    <tr>\n",
       "      <th>4</th>\n",
       "      <td>2020</td>\n",
       "      <td>7</td>\n",
       "    </tr>\n",
       "  </tbody>\n",
       "</table>\n",
       "</div>"
      ],
      "text/plain": [
       "   years  densities\n",
       "0   2020          3\n",
       "1   2020          4\n",
       "2   2020          5\n",
       "3   2020          6\n",
       "4   2020          7"
      ]
     },
     "execution_count": 65,
     "metadata": {},
     "output_type": "execute_result"
    }
   ],
   "source": [
    "t\n",
    "years = data[0][0][1].flatten()\n",
    "densities = data[0][0][2].flatten()\n",
    "altitudes = data[0][0][3].flatten()\n",
    "\n",
    "print(years)\n",
    "# print(densities[0:1000])\n",
    "print(altitudes[0:100])\n",
    "print(len(years), len(densities), len(altitudes))\n",
    "# Count the number of times 2020 appears in years\n",
    "print(np.sum(years == 2023))\n",
    "\n",
    "years_density = pd.DataFrame({'years': years, 'densities': densities})\n",
    "years_density.head()"
   ]
  },
  {
   "cell_type": "code",
   "execution_count": 47,
   "metadata": {},
   "outputs": [
    {
     "name": "stdout",
     "output_type": "stream",
     "text": [
      "0 2020\n",
      "0 200\n",
      "3\n",
      "1 250\n"
     ]
    },
    {
     "ename": "IndexError",
     "evalue": "index 1 is out of bounds for axis 1 with size 1",
     "output_type": "error",
     "traceback": [
      "\u001b[1;31m---------------------------------------------------------------------------\u001b[0m",
      "\u001b[1;31mIndexError\u001b[0m                                Traceback (most recent call last)",
      "\u001b[1;32mD:\\TEMP\\ipykernel_19800\\667665787.py\u001b[0m in \u001b[0;36m<module>\u001b[1;34m\u001b[0m\n\u001b[0;32m     10\u001b[0m         \u001b[1;31m# Extract the corresponding density value\u001b[0m\u001b[1;33m\u001b[0m\u001b[1;33m\u001b[0m\u001b[1;33m\u001b[0m\u001b[0m\n\u001b[0;32m     11\u001b[0m         \u001b[1;31m# Note: Assuming the density's first dimension corresponds to years and the second to altitudes\u001b[0m\u001b[1;33m\u001b[0m\u001b[1;33m\u001b[0m\u001b[1;33m\u001b[0m\u001b[0m\n\u001b[1;32m---> 12\u001b[1;33m         \u001b[0mdensity\u001b[0m \u001b[1;33m=\u001b[0m \u001b[0mdensities\u001b[0m\u001b[1;33m[\u001b[0m\u001b[0myear_index\u001b[0m\u001b[1;33m,\u001b[0m \u001b[0malt_index\u001b[0m\u001b[1;33m]\u001b[0m\u001b[1;33m\u001b[0m\u001b[1;33m\u001b[0m\u001b[0m\n\u001b[0m\u001b[0;32m     13\u001b[0m \u001b[1;33m\u001b[0m\u001b[0m\n\u001b[0;32m     14\u001b[0m         \u001b[0mprint\u001b[0m\u001b[1;33m(\u001b[0m\u001b[0mdensity\u001b[0m\u001b[1;33m)\u001b[0m\u001b[1;33m\u001b[0m\u001b[1;33m\u001b[0m\u001b[0m\n",
      "\u001b[1;31mIndexError\u001b[0m: index 1 is out of bounds for axis 1 with size 1"
     ]
    }
   ],
   "source": [
    "\n",
    "\n",
    "# Initialize an empty list to hold the data\n",
    "data_rows = []\n",
    "\n",
    "# Loop through each year\n",
    "for year_index, year in enumerate(years):\n",
    "    print(year_index, year)\n",
    "    # For each year, loop through each altitude\n",
    "    for alt_index, altitude in enumerate(altitudes):\n",
    "        print(alt_index, altitude)\n",
    "        # Extract the corresponding density value\n",
    "        # Note: Assuming the density's first dimension corresponds to years and the second to altitudes\n",
    "        density = densities[year_index, alt_index]\n",
    "        \n",
    "        print(density)\n",
    "        # Append a new record to the list\n",
    "        data_rows.append({\n",
    "            \"Year\": year,\n",
    "            \"Altitude\": altitude,\n",
    "            \"Density\": density\n",
    "        })\n",
    "\n",
    "# Convert the list of records into a DataFrame\n",
    "df = pd.DataFrame(data_rows)\n",
    "\n",
    "# Display the DataFrame to verify its structure\n",
    "print(df.head())"
   ]
  },
  {
   "cell_type": "code",
   "execution_count": 38,
   "metadata": {},
   "outputs": [
    {
     "ename": "IndexError",
     "evalue": "index 37 is out of bounds for axis 0 with size 37",
     "output_type": "error",
     "traceback": [
      "\u001b[1;31m---------------------------------------------------------------------------\u001b[0m",
      "\u001b[1;31mIndexError\u001b[0m                                Traceback (most recent call last)",
      "\u001b[1;32mD:\\TEMP\\ipykernel_19800\\766608612.py\u001b[0m in \u001b[0;36m<module>\u001b[1;34m\u001b[0m\n\u001b[0;32m     20\u001b[0m     \u001b[1;32mfor\u001b[0m \u001b[0mj\u001b[0m\u001b[1;33m,\u001b[0m \u001b[0maltitude\u001b[0m \u001b[1;32min\u001b[0m \u001b[0menumerate\u001b[0m\u001b[1;33m(\u001b[0m\u001b[0maltitudes\u001b[0m\u001b[1;33m)\u001b[0m\u001b[1;33m:\u001b[0m\u001b[1;33m\u001b[0m\u001b[1;33m\u001b[0m\u001b[0m\n\u001b[0;32m     21\u001b[0m         \u001b[1;31m# Extract the density for the current year, month, and altitude\u001b[0m\u001b[1;33m\u001b[0m\u001b[1;33m\u001b[0m\u001b[1;33m\u001b[0m\u001b[0m\n\u001b[1;32m---> 22\u001b[1;33m         \u001b[0mdensity\u001b[0m \u001b[1;33m=\u001b[0m \u001b[0mdensities\u001b[0m\u001b[1;33m[\u001b[0m\u001b[0mi\u001b[0m\u001b[1;33m,\u001b[0m \u001b[0mj\u001b[0m\u001b[1;33m]\u001b[0m\u001b[1;33m\u001b[0m\u001b[1;33m\u001b[0m\u001b[0m\n\u001b[0m\u001b[0;32m     23\u001b[0m         \u001b[0mdata_rows\u001b[0m\u001b[1;33m.\u001b[0m\u001b[0mappend\u001b[0m\u001b[1;33m(\u001b[0m\u001b[1;33m{\u001b[0m\u001b[1;34m\"Year\"\u001b[0m\u001b[1;33m:\u001b[0m \u001b[0myear\u001b[0m\u001b[1;33m,\u001b[0m \u001b[1;34m\"Month\"\u001b[0m\u001b[1;33m:\u001b[0m \u001b[0mmonth\u001b[0m\u001b[1;33m,\u001b[0m \u001b[1;34m\"Altitude\"\u001b[0m\u001b[1;33m:\u001b[0m \u001b[0maltitude\u001b[0m\u001b[1;33m,\u001b[0m \u001b[1;34m\"Density\"\u001b[0m\u001b[1;33m:\u001b[0m \u001b[0mdensity\u001b[0m\u001b[1;33m}\u001b[0m\u001b[1;33m)\u001b[0m\u001b[1;33m\u001b[0m\u001b[1;33m\u001b[0m\u001b[0m\n\u001b[0;32m     24\u001b[0m \u001b[1;33m\u001b[0m\u001b[0m\n",
      "\u001b[1;31mIndexError\u001b[0m: index 37 is out of bounds for axis 0 with size 37"
     ]
    }
   ],
   "source": [
    "import numpy as np\n",
    "import pandas as pd\n",
    "\n",
    "# Assuming `data` is the structure you provided\n",
    "densities, years, months, altitudes = data[0][0]\n",
    "\n",
    "# Flatten the year and month arrays for easier pairing with densities\n",
    "years_flattened = years.flatten()\n",
    "months_flattened = months.flatten()\n",
    "\n",
    "# Get the single array of altitudes\n",
    "altitudes = altitudes.flatten()\n",
    "\n",
    "# Assume densities is a 3D array: year/month index, altitude index, density values\n",
    "# Initialize a list to hold all rows before creating the DataFrame\n",
    "data_rows = []\n",
    "\n",
    "# Iterate through each time (year, month) and altitude\n",
    "for i, (year, month) in enumerate(zip(years_flattened, months_flattened)):\n",
    "    for j, altitude in enumerate(altitudes):\n",
    "        # Extract the density for the current year, month, and altitude\n",
    "        density = densities[i, j]\n",
    "        data_rows.append({\"Year\": year, \"Month\": month, \"Altitude\": altitude, \"Density\": density})\n",
    "\n",
    "# Convert list of rows into a DataFrame\n",
    "df = pd.DataFrame(data_rows)\n"
   ]
  },
  {
   "cell_type": "code",
   "execution_count": null,
   "metadata": {},
   "outputs": [],
   "source": []
  }
 ],
 "metadata": {
  "kernelspec": {
   "display_name": "fspsim",
   "language": "python",
   "name": "python3"
  },
  "language_info": {
   "codemirror_mode": {
    "name": "ipython",
    "version": 3
   },
   "file_extension": ".py",
   "mimetype": "text/x-python",
   "name": "python",
   "nbconvert_exporter": "python",
   "pygments_lexer": "ipython3",
   "version": "3.8.16"
  }
 },
 "nbformat": 4,
 "nbformat_minor": 2
}
